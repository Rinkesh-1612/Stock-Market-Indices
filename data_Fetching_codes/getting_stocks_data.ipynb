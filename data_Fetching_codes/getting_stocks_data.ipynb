{
 "cells": [
  {
   "cell_type": "code",
   "execution_count": 6,
   "metadata": {},
   "outputs": [
    {
     "name": "stdout",
     "output_type": "stream",
     "text": [
      "Collecting alpha_vantage\n",
      "  Downloading alpha_vantage-3.0.0-py3-none-any.whl.metadata (12 kB)\n",
      "Requirement already satisfied: aiohttp in c:\\users\\rinkesh\\appdata\\local\\programs\\python\\python311\\lib\\site-packages (from alpha_vantage) (3.13.0)\n",
      "Requirement already satisfied: requests in c:\\users\\rinkesh\\appdata\\local\\programs\\python\\python311\\lib\\site-packages (from alpha_vantage) (2.32.5)\n",
      "Requirement already satisfied: aiohappyeyeballs>=2.5.0 in c:\\users\\rinkesh\\appdata\\local\\programs\\python\\python311\\lib\\site-packages (from aiohttp->alpha_vantage) (2.6.1)\n",
      "Requirement already satisfied: aiosignal>=1.4.0 in c:\\users\\rinkesh\\appdata\\local\\programs\\python\\python311\\lib\\site-packages (from aiohttp->alpha_vantage) (1.4.0)\n",
      "Requirement already satisfied: attrs>=17.3.0 in c:\\users\\rinkesh\\appdata\\local\\programs\\python\\python311\\lib\\site-packages (from aiohttp->alpha_vantage) (25.4.0)\n",
      "Requirement already satisfied: frozenlist>=1.1.1 in c:\\users\\rinkesh\\appdata\\local\\programs\\python\\python311\\lib\\site-packages (from aiohttp->alpha_vantage) (1.6.0)\n",
      "Requirement already satisfied: multidict<7.0,>=4.5 in c:\\users\\rinkesh\\appdata\\local\\programs\\python\\python311\\lib\\site-packages (from aiohttp->alpha_vantage) (6.4.3)\n",
      "Requirement already satisfied: propcache>=0.2.0 in c:\\users\\rinkesh\\appdata\\local\\programs\\python\\python311\\lib\\site-packages (from aiohttp->alpha_vantage) (0.3.1)\n",
      "Requirement already satisfied: yarl<2.0,>=1.17.0 in c:\\users\\rinkesh\\appdata\\local\\programs\\python\\python311\\lib\\site-packages (from aiohttp->alpha_vantage) (1.20.0)\n",
      "Requirement already satisfied: idna>=2.0 in c:\\users\\rinkesh\\appdata\\local\\programs\\python\\python311\\lib\\site-packages (from yarl<2.0,>=1.17.0->aiohttp->alpha_vantage) (2.10)\n",
      "Requirement already satisfied: typing-extensions>=4.2 in c:\\users\\rinkesh\\appdata\\local\\programs\\python\\python311\\lib\\site-packages (from aiosignal>=1.4.0->aiohttp->alpha_vantage) (4.14.1)\n",
      "Requirement already satisfied: charset_normalizer<4,>=2 in c:\\users\\rinkesh\\appdata\\local\\programs\\python\\python311\\lib\\site-packages (from requests->alpha_vantage) (3.4.1)\n",
      "Requirement already satisfied: urllib3<3,>=1.21.1 in c:\\users\\rinkesh\\appdata\\local\\programs\\python\\python311\\lib\\site-packages (from requests->alpha_vantage) (1.26.20)\n",
      "Requirement already satisfied: certifi>=2017.4.17 in c:\\users\\rinkesh\\appdata\\local\\programs\\python\\python311\\lib\\site-packages (from requests->alpha_vantage) (2025.8.3)\n",
      "Downloading alpha_vantage-3.0.0-py3-none-any.whl (35 kB)\n",
      "Installing collected packages: alpha_vantage\n",
      "Successfully installed alpha_vantage-3.0.0\n"
     ]
    }
   ],
   "source": [
    "!pip install alpha_vantage"
   ]
  },
  {
   "cell_type": "code",
   "execution_count": 9,
   "metadata": {},
   "outputs": [
    {
     "name": "stdout",
     "output_type": "stream",
     "text": [
      "Starting robust data extraction for 8 tickers...\n",
      "\n",
      "  (1/8) Processing AAPL...\n"
     ]
    },
    {
     "name": "stderr",
     "output_type": "stream",
     "text": [
      "\n",
      "1 Failed download:\n",
      "['AAPL']: YFRateLimitError('Too Many Requests. Rate limited. Try after a while.')\n"
     ]
    },
    {
     "name": "stdout",
     "output_type": "stream",
     "text": [
      "    - WARNING: No data found for AAPL. Skipping.\n",
      "\n",
      "  (2/8) Processing MSFT...\n"
     ]
    },
    {
     "name": "stderr",
     "output_type": "stream",
     "text": [
      "\n",
      "1 Failed download:\n",
      "['MSFT']: YFRateLimitError('Too Many Requests. Rate limited. Try after a while.')\n"
     ]
    },
    {
     "name": "stdout",
     "output_type": "stream",
     "text": [
      "    - WARNING: No data found for MSFT. Skipping.\n",
      "\n",
      "  (3/8) Processing GOOGL...\n"
     ]
    },
    {
     "name": "stderr",
     "output_type": "stream",
     "text": [
      "\n",
      "1 Failed download:\n",
      "['GOOGL']: YFRateLimitError('Too Many Requests. Rate limited. Try after a while.')\n"
     ]
    },
    {
     "name": "stdout",
     "output_type": "stream",
     "text": [
      "    - WARNING: No data found for GOOGL. Skipping.\n",
      "\n",
      "  (4/8) Processing AMZN...\n"
     ]
    },
    {
     "name": "stderr",
     "output_type": "stream",
     "text": [
      "\n",
      "1 Failed download:\n",
      "['AMZN']: YFRateLimitError('Too Many Requests. Rate limited. Try after a while.')\n"
     ]
    },
    {
     "name": "stdout",
     "output_type": "stream",
     "text": [
      "    - WARNING: No data found for AMZN. Skipping.\n",
      "\n",
      "  (5/8) Processing TSLA...\n"
     ]
    },
    {
     "name": "stderr",
     "output_type": "stream",
     "text": [
      "\n",
      "1 Failed download:\n",
      "['TSLA']: YFRateLimitError('Too Many Requests. Rate limited. Try after a while.')\n"
     ]
    },
    {
     "name": "stdout",
     "output_type": "stream",
     "text": [
      "    - WARNING: No data found for TSLA. Skipping.\n",
      "\n",
      "  (6/8) Processing JPM...\n"
     ]
    },
    {
     "name": "stderr",
     "output_type": "stream",
     "text": [
      "\n",
      "1 Failed download:\n",
      "['JPM']: YFRateLimitError('Too Many Requests. Rate limited. Try after a while.')\n"
     ]
    },
    {
     "name": "stdout",
     "output_type": "stream",
     "text": [
      "    - WARNING: No data found for JPM. Skipping.\n",
      "\n",
      "  (7/8) Processing NVDA...\n"
     ]
    },
    {
     "name": "stderr",
     "output_type": "stream",
     "text": [
      "\n",
      "1 Failed download:\n",
      "['NVDA']: YFRateLimitError('Too Many Requests. Rate limited. Try after a while.')\n"
     ]
    },
    {
     "name": "stdout",
     "output_type": "stream",
     "text": [
      "    - WARNING: No data found for NVDA. Skipping.\n",
      "\n",
      "  (8/8) Processing NONEXISTENTTICKER123...\n"
     ]
    },
    {
     "name": "stderr",
     "output_type": "stream",
     "text": [
      "\n",
      "1 Failed download:\n",
      "['NONEXISTENTTICKER123']: YFRateLimitError('Too Many Requests. Rate limited. Try after a while.')\n"
     ]
    },
    {
     "name": "stdout",
     "output_type": "stream",
     "text": [
      "    - WARNING: No data found for NONEXISTENTTICKER123. Skipping.\n",
      "\n",
      "\n",
      "No data was successfully extracted.\n"
     ]
    }
   ],
   "source": [
    "import yfinance as yf\n",
    "import pandas as pd\n",
    "import numpy as np\n",
    "from datetime import datetime\n",
    "import time\n",
    "\n",
    "def get_financial_data_robust(tickers, delay_between_tickers=0.25):\n",
    "    \"\"\"\n",
    "    Fetches and calculates financial data based on the Flourish Explorer requirements,\n",
    "    using the robust yfinance.download() method.\n",
    "\n",
    "    This method can calculate all Performance and Trading metrics, but cannot fetch\n",
    "    fundamental data like Sector, Industry, or P/E Ratio.\n",
    "\n",
    "    Args:\n",
    "        tickers (list): A list of stock ticker symbols.\n",
    "        delay_between_tickers (float): A small delay to be a good citizen.\n",
    "\n",
    "    Returns:\n",
    "        pandas.DataFrame: A DataFrame containing the structured financial data.\n",
    "    \"\"\"\n",
    "    all_data = []\n",
    "    print(f\"Starting robust data extraction for {len(tickers)} tickers...\\n\")\n",
    "\n",
    "    for i, symbol in enumerate(tickers):\n",
    "        print(f\"  ({i+1}/{len(tickers)}) Processing {symbol}...\")\n",
    "\n",
    "        try:\n",
    "            # Download 13 months of data to ensure we have a full year for calculations\n",
    "            df = yf.download(symbol, period=\"13mo\", interval=\"1d\", progress=False, auto_adjust=True)\n",
    "\n",
    "            if df.empty:\n",
    "                print(f\"    - WARNING: No data found for {symbol}. Skipping.\\n\")\n",
    "                continue\n",
    "\n",
    "            # --- Extract and Calculate Metrics from the DataFrame ---\n",
    "\n",
    "            # Basic & Trading Metrics\n",
    "            last_close = df['Close'].iloc[-1]\n",
    "            prev_close = df['Close'].iloc[-2] if len(df) > 1 else last_close\n",
    "            price_change = last_close - prev_close\n",
    "            percent_change = (price_change / prev_close) * 100 if prev_close != 0 else 0\n",
    "            avg_volume = df['Volume'].tail(63).mean() # ~3 months average volume\n",
    "\n",
    "            # Valuation Metrics (Calculable ones)\n",
    "            # Use the last 252 trading days (~1 year) for 52-week high/low\n",
    "            last_year_data = df.tail(252)\n",
    "            fifty_two_week_high = last_year_data['High'].max()\n",
    "            fifty_two_week_low = last_year_data['Low'].min()\n",
    "\n",
    "            # Performance Metrics\n",
    "            daily_returns = df['Close'].pct_change().dropna()\n",
    "            \n",
    "            ytd_start_price = df[df.index.year == datetime.now().year]['Close'].iloc[0] if not df[df.index.year == datetime.now().year].empty else None\n",
    "            ytd_return = (last_close / ytd_start_price - 1) * 100 if ytd_start_price else np.nan\n",
    "            \n",
    "            # Helper function for safe return calculation\n",
    "            def safe_return(days):\n",
    "                return (df['Close'].iloc[-1] / df['Close'].iloc[-days] - 1) * 100 if len(df) >= days else np.nan\n",
    "\n",
    "            one_month_return = safe_return(22)  # ~22 trading days in a month\n",
    "            three_month_return = safe_return(63) # ~63 trading days in a quarter\n",
    "            one_year_return = safe_return(252) # ~252 trading days in a year\n",
    "            \n",
    "            volatility = np.std(daily_returns.values) * np.sqrt(252) * 100 # Annualized volatility in %\n",
    "\n",
    "            # --- Assemble the dictionary for this ticker ---\n",
    "            data = {\n",
    "                'Symbol': symbol,\n",
    "                # --- Basic Info ---\n",
    "                'Current Price': last_close,\n",
    "                # --- Valuation Metrics (Calculable) ---\n",
    "                '52W High': fifty_two_week_high,\n",
    "                '52W Low': fifty_two_week_low,\n",
    "                # --- Performance Metrics ---\n",
    "                'YTD Return': ytd_return,\n",
    "                '1M Return': one_month_return,\n",
    "                '3M Return': three_month_return,\n",
    "                '1Y Return': one_year_return,\n",
    "                'Volatility (Ann.)': volatility,\n",
    "                # --- Trading Metrics ---\n",
    "                'Avg Volume (3M)': avg_volume,\n",
    "                'Price Change': price_change,\n",
    "                'Percent Change': percent_change,\n",
    "            }\n",
    "\n",
    "            all_data.append(data)\n",
    "            print(f\"    + SUCCESS: Data fetched for {symbol}.\\n\")\n",
    "\n",
    "        except Exception as e:\n",
    "            print(f\"    - ERROR: An unexpected error occurred for {symbol}: {e}\\n\")\n",
    "\n",
    "        time.sleep(delay_between_tickers)\n",
    "\n",
    "    if not all_data:\n",
    "        print(\"\\nNo data was successfully extracted.\")\n",
    "        return pd.DataFrame()\n",
    "\n",
    "    # Create and format the final DataFrame\n",
    "    df_final = pd.DataFrame(all_data).set_index('Symbol')\n",
    "\n",
    "    # Format percentage columns for clarity\n",
    "    pct_cols = ['YTD Return', '1M Return', '3M Return', '1Y Return', 'Volatility (Ann.)', 'Percent Change']\n",
    "    for col in pct_cols:\n",
    "        df_final[col] = pd.to_numeric(df_final[col], errors='coerce').apply(lambda x: f\"{x:.2f}%\" if pd.notna(x) else 'N/A')\n",
    "\n",
    "    # Format large number columns\n",
    "    df_final['Avg Volume (3M)'] = df_final['Avg Volume (3M)'].apply(lambda x: f\"{x:,.0f}\" if pd.notna(x) else 'N/A')\n",
    "\n",
    "    print(\"\\nData extraction complete.\")\n",
    "    return df_final\n",
    "\n",
    "\n",
    "# --- Example Usage ---\n",
    "if __name__ == \"__main__\":\n",
    "    tickers = ['AAPL', 'MSFT', 'GOOGL', 'AMZN', 'TSLA', 'JPM', 'NVDA', 'NONEXISTENTTICKER123']\n",
    "    df_summary = get_financial_data_robust(tickers)\n",
    "\n",
    "    if not df_summary.empty:\n",
    "        print(\"\\n--- Flourish Explorer: Financial Data Summary ---\")\n",
    "        pd.set_option('display.max_columns', None)\n",
    "        print(df_summary)\n",
    "\n",
    "        # Optional: Save to CSV\n",
    "        # df_summary.to_csv(\"flourish_explorer_summary.csv\")\n",
    "        # print(\"\\nSaved to flourish_explorer_summary.csv\")\n",
    "        "
   ]
  },
  {
   "cell_type": "code",
   "execution_count": null,
   "metadata": {},
   "outputs": [],
   "source": []
  }
 ],
 "metadata": {
  "kernelspec": {
   "display_name": "Python 3",
   "language": "python",
   "name": "python3"
  },
  "language_info": {
   "codemirror_mode": {
    "name": "ipython",
    "version": 3
   },
   "file_extension": ".py",
   "mimetype": "text/x-python",
   "name": "python",
   "nbconvert_exporter": "python",
   "pygments_lexer": "ipython3",
   "version": "3.13.0"
  }
 },
 "nbformat": 4,
 "nbformat_minor": 2
}
