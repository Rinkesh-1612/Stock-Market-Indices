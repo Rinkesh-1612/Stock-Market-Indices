{
 "cells": [
  {
   "cell_type": "code",
   "execution_count": 3,
   "metadata": {},
   "outputs": [
    {
     "data": {
      "application/vnd.plotly.v1+json": {
       "config": {
        "plotlyServerURL": "https://plot.ly"
       },
       "data": [
        {
         "lat": [
          40.7128
         ],
         "lon": [
          -74.006
         ],
         "marker": {
          "color": "red",
          "colorscale": [
           [
            0,
            "#440154"
           ],
           [
            0.1111111111111111,
            "#482878"
           ],
           [
            0.2222222222222222,
            "#3e4989"
           ],
           [
            0.3333333333333333,
            "#31688e"
           ],
           [
            0.4444444444444444,
            "#26828e"
           ],
           [
            0.5555555555555556,
            "#1f9e89"
           ],
           [
            0.6666666666666666,
            "#35b779"
           ],
           [
            0.7777777777777778,
            "#6ece58"
           ],
           [
            0.8888888888888888,
            "#b5de2b"
           ],
           [
            1,
            "#fde725"
           ]
          ],
          "size": 10
         },
         "mode": "markers+text",
         "text": [
          "S&P 500"
         ],
         "textfont": {
          "color": "red",
          "size": 12
         },
         "textposition": "top center",
         "type": "scattergeo"
        }
       ],
       "layout": {
        "geo": {
         "bgcolor": "#f4f4f4",
         "countrycolor": "#333333",
         "landcolor": "#e0e0e0",
         "oceancolor": "#a1c2fa",
         "projection": {
          "type": "orthographic"
         },
         "showcountries": true,
         "showocean": true
        },
        "margin": {
         "b": 0,
         "l": 0,
         "r": 0,
         "t": 50
        },
        "template": {
         "data": {
          "bar": [
           {
            "error_x": {
             "color": "#2a3f5f"
            },
            "error_y": {
             "color": "#2a3f5f"
            },
            "marker": {
             "line": {
              "color": "#E5ECF6",
              "width": 0.5
             },
             "pattern": {
              "fillmode": "overlay",
              "size": 10,
              "solidity": 0.2
             }
            },
            "type": "bar"
           }
          ],
          "barpolar": [
           {
            "marker": {
             "line": {
              "color": "#E5ECF6",
              "width": 0.5
             },
             "pattern": {
              "fillmode": "overlay",
              "size": 10,
              "solidity": 0.2
             }
            },
            "type": "barpolar"
           }
          ],
          "carpet": [
           {
            "aaxis": {
             "endlinecolor": "#2a3f5f",
             "gridcolor": "white",
             "linecolor": "white",
             "minorgridcolor": "white",
             "startlinecolor": "#2a3f5f"
            },
            "baxis": {
             "endlinecolor": "#2a3f5f",
             "gridcolor": "white",
             "linecolor": "white",
             "minorgridcolor": "white",
             "startlinecolor": "#2a3f5f"
            },
            "type": "carpet"
           }
          ],
          "choropleth": [
           {
            "colorbar": {
             "outlinewidth": 0,
             "ticks": ""
            },
            "type": "choropleth"
           }
          ],
          "contour": [
           {
            "colorbar": {
             "outlinewidth": 0,
             "ticks": ""
            },
            "colorscale": [
             [
              0,
              "#0d0887"
             ],
             [
              0.1111111111111111,
              "#46039f"
             ],
             [
              0.2222222222222222,
              "#7201a8"
             ],
             [
              0.3333333333333333,
              "#9c179e"
             ],
             [
              0.4444444444444444,
              "#bd3786"
             ],
             [
              0.5555555555555556,
              "#d8576b"
             ],
             [
              0.6666666666666666,
              "#ed7953"
             ],
             [
              0.7777777777777778,
              "#fb9f3a"
             ],
             [
              0.8888888888888888,
              "#fdca26"
             ],
             [
              1,
              "#f0f921"
             ]
            ],
            "type": "contour"
           }
          ],
          "contourcarpet": [
           {
            "colorbar": {
             "outlinewidth": 0,
             "ticks": ""
            },
            "type": "contourcarpet"
           }
          ],
          "heatmap": [
           {
            "colorbar": {
             "outlinewidth": 0,
             "ticks": ""
            },
            "colorscale": [
             [
              0,
              "#0d0887"
             ],
             [
              0.1111111111111111,
              "#46039f"
             ],
             [
              0.2222222222222222,
              "#7201a8"
             ],
             [
              0.3333333333333333,
              "#9c179e"
             ],
             [
              0.4444444444444444,
              "#bd3786"
             ],
             [
              0.5555555555555556,
              "#d8576b"
             ],
             [
              0.6666666666666666,
              "#ed7953"
             ],
             [
              0.7777777777777778,
              "#fb9f3a"
             ],
             [
              0.8888888888888888,
              "#fdca26"
             ],
             [
              1,
              "#f0f921"
             ]
            ],
            "type": "heatmap"
           }
          ],
          "heatmapgl": [
           {
            "colorbar": {
             "outlinewidth": 0,
             "ticks": ""
            },
            "colorscale": [
             [
              0,
              "#0d0887"
             ],
             [
              0.1111111111111111,
              "#46039f"
             ],
             [
              0.2222222222222222,
              "#7201a8"
             ],
             [
              0.3333333333333333,
              "#9c179e"
             ],
             [
              0.4444444444444444,
              "#bd3786"
             ],
             [
              0.5555555555555556,
              "#d8576b"
             ],
             [
              0.6666666666666666,
              "#ed7953"
             ],
             [
              0.7777777777777778,
              "#fb9f3a"
             ],
             [
              0.8888888888888888,
              "#fdca26"
             ],
             [
              1,
              "#f0f921"
             ]
            ],
            "type": "heatmapgl"
           }
          ],
          "histogram": [
           {
            "marker": {
             "pattern": {
              "fillmode": "overlay",
              "size": 10,
              "solidity": 0.2
             }
            },
            "type": "histogram"
           }
          ],
          "histogram2d": [
           {
            "colorbar": {
             "outlinewidth": 0,
             "ticks": ""
            },
            "colorscale": [
             [
              0,
              "#0d0887"
             ],
             [
              0.1111111111111111,
              "#46039f"
             ],
             [
              0.2222222222222222,
              "#7201a8"
             ],
             [
              0.3333333333333333,
              "#9c179e"
             ],
             [
              0.4444444444444444,
              "#bd3786"
             ],
             [
              0.5555555555555556,
              "#d8576b"
             ],
             [
              0.6666666666666666,
              "#ed7953"
             ],
             [
              0.7777777777777778,
              "#fb9f3a"
             ],
             [
              0.8888888888888888,
              "#fdca26"
             ],
             [
              1,
              "#f0f921"
             ]
            ],
            "type": "histogram2d"
           }
          ],
          "histogram2dcontour": [
           {
            "colorbar": {
             "outlinewidth": 0,
             "ticks": ""
            },
            "colorscale": [
             [
              0,
              "#0d0887"
             ],
             [
              0.1111111111111111,
              "#46039f"
             ],
             [
              0.2222222222222222,
              "#7201a8"
             ],
             [
              0.3333333333333333,
              "#9c179e"
             ],
             [
              0.4444444444444444,
              "#bd3786"
             ],
             [
              0.5555555555555556,
              "#d8576b"
             ],
             [
              0.6666666666666666,
              "#ed7953"
             ],
             [
              0.7777777777777778,
              "#fb9f3a"
             ],
             [
              0.8888888888888888,
              "#fdca26"
             ],
             [
              1,
              "#f0f921"
             ]
            ],
            "type": "histogram2dcontour"
           }
          ],
          "mesh3d": [
           {
            "colorbar": {
             "outlinewidth": 0,
             "ticks": ""
            },
            "type": "mesh3d"
           }
          ],
          "parcoords": [
           {
            "line": {
             "colorbar": {
              "outlinewidth": 0,
              "ticks": ""
             }
            },
            "type": "parcoords"
           }
          ],
          "pie": [
           {
            "automargin": true,
            "type": "pie"
           }
          ],
          "scatter": [
           {
            "fillpattern": {
             "fillmode": "overlay",
             "size": 10,
             "solidity": 0.2
            },
            "type": "scatter"
           }
          ],
          "scatter3d": [
           {
            "line": {
             "colorbar": {
              "outlinewidth": 0,
              "ticks": ""
             }
            },
            "marker": {
             "colorbar": {
              "outlinewidth": 0,
              "ticks": ""
             }
            },
            "type": "scatter3d"
           }
          ],
          "scattercarpet": [
           {
            "marker": {
             "colorbar": {
              "outlinewidth": 0,
              "ticks": ""
             }
            },
            "type": "scattercarpet"
           }
          ],
          "scattergeo": [
           {
            "marker": {
             "colorbar": {
              "outlinewidth": 0,
              "ticks": ""
             }
            },
            "type": "scattergeo"
           }
          ],
          "scattergl": [
           {
            "marker": {
             "colorbar": {
              "outlinewidth": 0,
              "ticks": ""
             }
            },
            "type": "scattergl"
           }
          ],
          "scattermapbox": [
           {
            "marker": {
             "colorbar": {
              "outlinewidth": 0,
              "ticks": ""
             }
            },
            "type": "scattermapbox"
           }
          ],
          "scatterpolar": [
           {
            "marker": {
             "colorbar": {
              "outlinewidth": 0,
              "ticks": ""
             }
            },
            "type": "scatterpolar"
           }
          ],
          "scatterpolargl": [
           {
            "marker": {
             "colorbar": {
              "outlinewidth": 0,
              "ticks": ""
             }
            },
            "type": "scatterpolargl"
           }
          ],
          "scatterternary": [
           {
            "marker": {
             "colorbar": {
              "outlinewidth": 0,
              "ticks": ""
             }
            },
            "type": "scatterternary"
           }
          ],
          "surface": [
           {
            "colorbar": {
             "outlinewidth": 0,
             "ticks": ""
            },
            "colorscale": [
             [
              0,
              "#0d0887"
             ],
             [
              0.1111111111111111,
              "#46039f"
             ],
             [
              0.2222222222222222,
              "#7201a8"
             ],
             [
              0.3333333333333333,
              "#9c179e"
             ],
             [
              0.4444444444444444,
              "#bd3786"
             ],
             [
              0.5555555555555556,
              "#d8576b"
             ],
             [
              0.6666666666666666,
              "#ed7953"
             ],
             [
              0.7777777777777778,
              "#fb9f3a"
             ],
             [
              0.8888888888888888,
              "#fdca26"
             ],
             [
              1,
              "#f0f921"
             ]
            ],
            "type": "surface"
           }
          ],
          "table": [
           {
            "cells": {
             "fill": {
              "color": "#EBF0F8"
             },
             "line": {
              "color": "white"
             }
            },
            "header": {
             "fill": {
              "color": "#C8D4E3"
             },
             "line": {
              "color": "white"
             }
            },
            "type": "table"
           }
          ]
         },
         "layout": {
          "annotationdefaults": {
           "arrowcolor": "#2a3f5f",
           "arrowhead": 0,
           "arrowwidth": 1
          },
          "autotypenumbers": "strict",
          "coloraxis": {
           "colorbar": {
            "outlinewidth": 0,
            "ticks": ""
           }
          },
          "colorscale": {
           "diverging": [
            [
             0,
             "#8e0152"
            ],
            [
             0.1,
             "#c51b7d"
            ],
            [
             0.2,
             "#de77ae"
            ],
            [
             0.3,
             "#f1b6da"
            ],
            [
             0.4,
             "#fde0ef"
            ],
            [
             0.5,
             "#f7f7f7"
            ],
            [
             0.6,
             "#e6f5d0"
            ],
            [
             0.7,
             "#b8e186"
            ],
            [
             0.8,
             "#7fbc41"
            ],
            [
             0.9,
             "#4d9221"
            ],
            [
             1,
             "#276419"
            ]
           ],
           "sequential": [
            [
             0,
             "#0d0887"
            ],
            [
             0.1111111111111111,
             "#46039f"
            ],
            [
             0.2222222222222222,
             "#7201a8"
            ],
            [
             0.3333333333333333,
             "#9c179e"
            ],
            [
             0.4444444444444444,
             "#bd3786"
            ],
            [
             0.5555555555555556,
             "#d8576b"
            ],
            [
             0.6666666666666666,
             "#ed7953"
            ],
            [
             0.7777777777777778,
             "#fb9f3a"
            ],
            [
             0.8888888888888888,
             "#fdca26"
            ],
            [
             1,
             "#f0f921"
            ]
           ],
           "sequentialminus": [
            [
             0,
             "#0d0887"
            ],
            [
             0.1111111111111111,
             "#46039f"
            ],
            [
             0.2222222222222222,
             "#7201a8"
            ],
            [
             0.3333333333333333,
             "#9c179e"
            ],
            [
             0.4444444444444444,
             "#bd3786"
            ],
            [
             0.5555555555555556,
             "#d8576b"
            ],
            [
             0.6666666666666666,
             "#ed7953"
            ],
            [
             0.7777777777777778,
             "#fb9f3a"
            ],
            [
             0.8888888888888888,
             "#fdca26"
            ],
            [
             1,
             "#f0f921"
            ]
           ]
          },
          "colorway": [
           "#636efa",
           "#EF553B",
           "#00cc96",
           "#ab63fa",
           "#FFA15A",
           "#19d3f3",
           "#FF6692",
           "#B6E880",
           "#FF97FF",
           "#FECB52"
          ],
          "font": {
           "color": "#2a3f5f"
          },
          "geo": {
           "bgcolor": "white",
           "lakecolor": "white",
           "landcolor": "#E5ECF6",
           "showlakes": true,
           "showland": true,
           "subunitcolor": "white"
          },
          "hoverlabel": {
           "align": "left"
          },
          "hovermode": "closest",
          "mapbox": {
           "style": "light"
          },
          "paper_bgcolor": "white",
          "plot_bgcolor": "#E5ECF6",
          "polar": {
           "angularaxis": {
            "gridcolor": "white",
            "linecolor": "white",
            "ticks": ""
           },
           "bgcolor": "#E5ECF6",
           "radialaxis": {
            "gridcolor": "white",
            "linecolor": "white",
            "ticks": ""
           }
          },
          "scene": {
           "xaxis": {
            "backgroundcolor": "#E5ECF6",
            "gridcolor": "white",
            "gridwidth": 2,
            "linecolor": "white",
            "showbackground": true,
            "ticks": "",
            "zerolinecolor": "white"
           },
           "yaxis": {
            "backgroundcolor": "#E5ECF6",
            "gridcolor": "white",
            "gridwidth": 2,
            "linecolor": "white",
            "showbackground": true,
            "ticks": "",
            "zerolinecolor": "white"
           },
           "zaxis": {
            "backgroundcolor": "#E5ECF6",
            "gridcolor": "white",
            "gridwidth": 2,
            "linecolor": "white",
            "showbackground": true,
            "ticks": "",
            "zerolinecolor": "white"
           }
          },
          "shapedefaults": {
           "line": {
            "color": "#2a3f5f"
           }
          },
          "ternary": {
           "aaxis": {
            "gridcolor": "white",
            "linecolor": "white",
            "ticks": ""
           },
           "baxis": {
            "gridcolor": "white",
            "linecolor": "white",
            "ticks": ""
           },
           "bgcolor": "#E5ECF6",
           "caxis": {
            "gridcolor": "white",
            "linecolor": "white",
            "ticks": ""
           }
          },
          "title": {
           "x": 0.05
          },
          "xaxis": {
           "automargin": true,
           "gridcolor": "white",
           "linecolor": "white",
           "ticks": "",
           "title": {
            "standoff": 15
           },
           "zerolinecolor": "white",
           "zerolinewidth": 2
          },
          "yaxis": {
           "automargin": true,
           "gridcolor": "white",
           "linecolor": "white",
           "ticks": "",
           "title": {
            "standoff": 15
           },
           "zerolinecolor": "white",
           "zerolinewidth": 2
          }
         }
        },
        "title": {
         "font": {
          "size": 24
         },
         "text": "S&P 500 Location (New York) on a 3D Globe"
        }
       }
      }
     },
     "metadata": {},
     "output_type": "display_data"
    }
   ],
   "source": [
    "import plotly.graph_objects as go\n",
    "\n",
    "# Initialize the figure object\n",
    "fig = go.Figure()\n",
    "\n",
    "# Add the Scattergeo trace to mark a location\n",
    "fig.add_trace(go.Scattergeo(\n",
    "    # Coordinates for New York City (approx. S&P 500 location)\n",
    "    lon = [-74.0060],\n",
    "    lat = [40.7128],\n",
    "    mode = 'markers+text', # Show both a marker and text label\n",
    "    marker = dict(\n",
    "        size = 10, # Marker size (5 * 2)\n",
    "        color = 'red',\n",
    "        # colorscale is typically used when plotting multiple points with varying Z values,\n",
    "        # but kept here for consistency.\n",
    "        colorscale = 'Viridis' \n",
    "    ),\n",
    "    text = ['S&P 500'],\n",
    "    textfont = dict(\n",
    "        size = 12,\n",
    "        color = \"red\"\n",
    "    ),\n",
    "    # To place the text above the marker\n",
    "    textposition = \"top center\" \n",
    "))\n",
    "\n",
    "# Configure the geographical settings (layout)\n",
    "fig.update_geos(\n",
    "    projection_type = 'orthographic', # This gives the 3D globe effect\n",
    "    showcountries = True,\n",
    "    showocean = True,\n",
    "    oceancolor = '#a1c2fa', # Slightly nicer light blue\n",
    "    countrycolor = '#333333',\n",
    "    landcolor = '#e0e0e0',\n",
    "    bgcolor = '#f4f4f4' # Background color for the map area\n",
    ")\n",
    "\n",
    "# Update the layout for a title and margin\n",
    "fig.update_layout(\n",
    "    title_text = 'S&P 500 Location (New York) on a 3D Globe',\n",
    "    title_font_size = 24,\n",
    "    margin={\"r\":0,\"t\":50,\"l\":0,\"b\":0}\n",
    ")\n",
    "\n",
    "# This command is crucial: it opens the interactive Plotly figure \n",
    "# in your default web browser for viewing.\n",
    "fig.show()\n"
   ]
  },
  {
   "cell_type": "code",
   "execution_count": 4,
   "metadata": {},
   "outputs": [
    {
     "data": {
      "application/vnd.plotly.v1+json": {
       "config": {
        "plotlyServerURL": "https://plot.ly"
       },
       "data": [
        {
         "hoverinfo": "text",
         "hovertext": [
          "S&P 500 (USA)<br>Market Cap: $45000B",
          "FTSE 100 (UK)<br>Market Cap: $3500B",
          "Nikkei 225 (Japan)<br>Market Cap: $6000B",
          "Hang Seng (HK)<br>Market Cap: $5000B"
         ],
         "lat": [
          40.7128,
          51.5074,
          35.6895,
          22.3193
         ],
         "lon": [
          -74.006,
          -0.1278,
          139.6917,
          114.1694
         ],
         "marker": {
          "color": [
           45000,
           3500,
           6000,
           5000
          ],
          "colorbar": {
           "orientation": "h",
           "title": {
            "text": "Market Cap ($B)"
           }
          },
          "colorscale": [
           [
            0,
            "rgb(0,0,0)"
           ],
           [
            0.2,
            "rgb(30,0,100)"
           ],
           [
            0.4,
            "rgb(120,0,100)"
           ],
           [
            0.6,
            "rgb(160,90,0)"
           ],
           [
            0.8,
            "rgb(230,200,0)"
           ],
           [
            1,
            "rgb(255,250,220)"
           ]
          ],
          "showscale": true,
          "size": [
           90,
           7,
           12,
           10
          ]
         },
         "mode": "markers+text",
         "text": [
          "S&P 500 (USA)",
          "FTSE 100 (UK)",
          "Nikkei 225 (Japan)",
          "Hang Seng (HK)"
         ],
         "textfont": {
          "color": "black",
          "size": 10
         },
         "textposition": "top right",
         "type": "scattermapbox"
        }
       ],
       "layout": {
        "mapbox": {
         "center": {
          "lat": 30,
          "lon": 20
         },
         "style": "open-street-map",
         "zoom": 1.2
        },
        "margin": {
         "b": 0,
         "l": 0,
         "r": 0,
         "t": 50
        },
        "template": {
         "data": {
          "bar": [
           {
            "error_x": {
             "color": "#2a3f5f"
            },
            "error_y": {
             "color": "#2a3f5f"
            },
            "marker": {
             "line": {
              "color": "#E5ECF6",
              "width": 0.5
             },
             "pattern": {
              "fillmode": "overlay",
              "size": 10,
              "solidity": 0.2
             }
            },
            "type": "bar"
           }
          ],
          "barpolar": [
           {
            "marker": {
             "line": {
              "color": "#E5ECF6",
              "width": 0.5
             },
             "pattern": {
              "fillmode": "overlay",
              "size": 10,
              "solidity": 0.2
             }
            },
            "type": "barpolar"
           }
          ],
          "carpet": [
           {
            "aaxis": {
             "endlinecolor": "#2a3f5f",
             "gridcolor": "white",
             "linecolor": "white",
             "minorgridcolor": "white",
             "startlinecolor": "#2a3f5f"
            },
            "baxis": {
             "endlinecolor": "#2a3f5f",
             "gridcolor": "white",
             "linecolor": "white",
             "minorgridcolor": "white",
             "startlinecolor": "#2a3f5f"
            },
            "type": "carpet"
           }
          ],
          "choropleth": [
           {
            "colorbar": {
             "outlinewidth": 0,
             "ticks": ""
            },
            "type": "choropleth"
           }
          ],
          "contour": [
           {
            "colorbar": {
             "outlinewidth": 0,
             "ticks": ""
            },
            "colorscale": [
             [
              0,
              "#0d0887"
             ],
             [
              0.1111111111111111,
              "#46039f"
             ],
             [
              0.2222222222222222,
              "#7201a8"
             ],
             [
              0.3333333333333333,
              "#9c179e"
             ],
             [
              0.4444444444444444,
              "#bd3786"
             ],
             [
              0.5555555555555556,
              "#d8576b"
             ],
             [
              0.6666666666666666,
              "#ed7953"
             ],
             [
              0.7777777777777778,
              "#fb9f3a"
             ],
             [
              0.8888888888888888,
              "#fdca26"
             ],
             [
              1,
              "#f0f921"
             ]
            ],
            "type": "contour"
           }
          ],
          "contourcarpet": [
           {
            "colorbar": {
             "outlinewidth": 0,
             "ticks": ""
            },
            "type": "contourcarpet"
           }
          ],
          "heatmap": [
           {
            "colorbar": {
             "outlinewidth": 0,
             "ticks": ""
            },
            "colorscale": [
             [
              0,
              "#0d0887"
             ],
             [
              0.1111111111111111,
              "#46039f"
             ],
             [
              0.2222222222222222,
              "#7201a8"
             ],
             [
              0.3333333333333333,
              "#9c179e"
             ],
             [
              0.4444444444444444,
              "#bd3786"
             ],
             [
              0.5555555555555556,
              "#d8576b"
             ],
             [
              0.6666666666666666,
              "#ed7953"
             ],
             [
              0.7777777777777778,
              "#fb9f3a"
             ],
             [
              0.8888888888888888,
              "#fdca26"
             ],
             [
              1,
              "#f0f921"
             ]
            ],
            "type": "heatmap"
           }
          ],
          "heatmapgl": [
           {
            "colorbar": {
             "outlinewidth": 0,
             "ticks": ""
            },
            "colorscale": [
             [
              0,
              "#0d0887"
             ],
             [
              0.1111111111111111,
              "#46039f"
             ],
             [
              0.2222222222222222,
              "#7201a8"
             ],
             [
              0.3333333333333333,
              "#9c179e"
             ],
             [
              0.4444444444444444,
              "#bd3786"
             ],
             [
              0.5555555555555556,
              "#d8576b"
             ],
             [
              0.6666666666666666,
              "#ed7953"
             ],
             [
              0.7777777777777778,
              "#fb9f3a"
             ],
             [
              0.8888888888888888,
              "#fdca26"
             ],
             [
              1,
              "#f0f921"
             ]
            ],
            "type": "heatmapgl"
           }
          ],
          "histogram": [
           {
            "marker": {
             "pattern": {
              "fillmode": "overlay",
              "size": 10,
              "solidity": 0.2
             }
            },
            "type": "histogram"
           }
          ],
          "histogram2d": [
           {
            "colorbar": {
             "outlinewidth": 0,
             "ticks": ""
            },
            "colorscale": [
             [
              0,
              "#0d0887"
             ],
             [
              0.1111111111111111,
              "#46039f"
             ],
             [
              0.2222222222222222,
              "#7201a8"
             ],
             [
              0.3333333333333333,
              "#9c179e"
             ],
             [
              0.4444444444444444,
              "#bd3786"
             ],
             [
              0.5555555555555556,
              "#d8576b"
             ],
             [
              0.6666666666666666,
              "#ed7953"
             ],
             [
              0.7777777777777778,
              "#fb9f3a"
             ],
             [
              0.8888888888888888,
              "#fdca26"
             ],
             [
              1,
              "#f0f921"
             ]
            ],
            "type": "histogram2d"
           }
          ],
          "histogram2dcontour": [
           {
            "colorbar": {
             "outlinewidth": 0,
             "ticks": ""
            },
            "colorscale": [
             [
              0,
              "#0d0887"
             ],
             [
              0.1111111111111111,
              "#46039f"
             ],
             [
              0.2222222222222222,
              "#7201a8"
             ],
             [
              0.3333333333333333,
              "#9c179e"
             ],
             [
              0.4444444444444444,
              "#bd3786"
             ],
             [
              0.5555555555555556,
              "#d8576b"
             ],
             [
              0.6666666666666666,
              "#ed7953"
             ],
             [
              0.7777777777777778,
              "#fb9f3a"
             ],
             [
              0.8888888888888888,
              "#fdca26"
             ],
             [
              1,
              "#f0f921"
             ]
            ],
            "type": "histogram2dcontour"
           }
          ],
          "mesh3d": [
           {
            "colorbar": {
             "outlinewidth": 0,
             "ticks": ""
            },
            "type": "mesh3d"
           }
          ],
          "parcoords": [
           {
            "line": {
             "colorbar": {
              "outlinewidth": 0,
              "ticks": ""
             }
            },
            "type": "parcoords"
           }
          ],
          "pie": [
           {
            "automargin": true,
            "type": "pie"
           }
          ],
          "scatter": [
           {
            "fillpattern": {
             "fillmode": "overlay",
             "size": 10,
             "solidity": 0.2
            },
            "type": "scatter"
           }
          ],
          "scatter3d": [
           {
            "line": {
             "colorbar": {
              "outlinewidth": 0,
              "ticks": ""
             }
            },
            "marker": {
             "colorbar": {
              "outlinewidth": 0,
              "ticks": ""
             }
            },
            "type": "scatter3d"
           }
          ],
          "scattercarpet": [
           {
            "marker": {
             "colorbar": {
              "outlinewidth": 0,
              "ticks": ""
             }
            },
            "type": "scattercarpet"
           }
          ],
          "scattergeo": [
           {
            "marker": {
             "colorbar": {
              "outlinewidth": 0,
              "ticks": ""
             }
            },
            "type": "scattergeo"
           }
          ],
          "scattergl": [
           {
            "marker": {
             "colorbar": {
              "outlinewidth": 0,
              "ticks": ""
             }
            },
            "type": "scattergl"
           }
          ],
          "scattermapbox": [
           {
            "marker": {
             "colorbar": {
              "outlinewidth": 0,
              "ticks": ""
             }
            },
            "type": "scattermapbox"
           }
          ],
          "scatterpolar": [
           {
            "marker": {
             "colorbar": {
              "outlinewidth": 0,
              "ticks": ""
             }
            },
            "type": "scatterpolar"
           }
          ],
          "scatterpolargl": [
           {
            "marker": {
             "colorbar": {
              "outlinewidth": 0,
              "ticks": ""
             }
            },
            "type": "scatterpolargl"
           }
          ],
          "scatterternary": [
           {
            "marker": {
             "colorbar": {
              "outlinewidth": 0,
              "ticks": ""
             }
            },
            "type": "scatterternary"
           }
          ],
          "surface": [
           {
            "colorbar": {
             "outlinewidth": 0,
             "ticks": ""
            },
            "colorscale": [
             [
              0,
              "#0d0887"
             ],
             [
              0.1111111111111111,
              "#46039f"
             ],
             [
              0.2222222222222222,
              "#7201a8"
             ],
             [
              0.3333333333333333,
              "#9c179e"
             ],
             [
              0.4444444444444444,
              "#bd3786"
             ],
             [
              0.5555555555555556,
              "#d8576b"
             ],
             [
              0.6666666666666666,
              "#ed7953"
             ],
             [
              0.7777777777777778,
              "#fb9f3a"
             ],
             [
              0.8888888888888888,
              "#fdca26"
             ],
             [
              1,
              "#f0f921"
             ]
            ],
            "type": "surface"
           }
          ],
          "table": [
           {
            "cells": {
             "fill": {
              "color": "#EBF0F8"
             },
             "line": {
              "color": "white"
             }
            },
            "header": {
             "fill": {
              "color": "#C8D4E3"
             },
             "line": {
              "color": "white"
             }
            },
            "type": "table"
           }
          ]
         },
         "layout": {
          "annotationdefaults": {
           "arrowcolor": "#2a3f5f",
           "arrowhead": 0,
           "arrowwidth": 1
          },
          "autotypenumbers": "strict",
          "coloraxis": {
           "colorbar": {
            "outlinewidth": 0,
            "ticks": ""
           }
          },
          "colorscale": {
           "diverging": [
            [
             0,
             "#8e0152"
            ],
            [
             0.1,
             "#c51b7d"
            ],
            [
             0.2,
             "#de77ae"
            ],
            [
             0.3,
             "#f1b6da"
            ],
            [
             0.4,
             "#fde0ef"
            ],
            [
             0.5,
             "#f7f7f7"
            ],
            [
             0.6,
             "#e6f5d0"
            ],
            [
             0.7,
             "#b8e186"
            ],
            [
             0.8,
             "#7fbc41"
            ],
            [
             0.9,
             "#4d9221"
            ],
            [
             1,
             "#276419"
            ]
           ],
           "sequential": [
            [
             0,
             "#0d0887"
            ],
            [
             0.1111111111111111,
             "#46039f"
            ],
            [
             0.2222222222222222,
             "#7201a8"
            ],
            [
             0.3333333333333333,
             "#9c179e"
            ],
            [
             0.4444444444444444,
             "#bd3786"
            ],
            [
             0.5555555555555556,
             "#d8576b"
            ],
            [
             0.6666666666666666,
             "#ed7953"
            ],
            [
             0.7777777777777778,
             "#fb9f3a"
            ],
            [
             0.8888888888888888,
             "#fdca26"
            ],
            [
             1,
             "#f0f921"
            ]
           ],
           "sequentialminus": [
            [
             0,
             "#0d0887"
            ],
            [
             0.1111111111111111,
             "#46039f"
            ],
            [
             0.2222222222222222,
             "#7201a8"
            ],
            [
             0.3333333333333333,
             "#9c179e"
            ],
            [
             0.4444444444444444,
             "#bd3786"
            ],
            [
             0.5555555555555556,
             "#d8576b"
            ],
            [
             0.6666666666666666,
             "#ed7953"
            ],
            [
             0.7777777777777778,
             "#fb9f3a"
            ],
            [
             0.8888888888888888,
             "#fdca26"
            ],
            [
             1,
             "#f0f921"
            ]
           ]
          },
          "colorway": [
           "#636efa",
           "#EF553B",
           "#00cc96",
           "#ab63fa",
           "#FFA15A",
           "#19d3f3",
           "#FF6692",
           "#B6E880",
           "#FF97FF",
           "#FECB52"
          ],
          "font": {
           "color": "#2a3f5f"
          },
          "geo": {
           "bgcolor": "white",
           "lakecolor": "white",
           "landcolor": "#E5ECF6",
           "showlakes": true,
           "showland": true,
           "subunitcolor": "white"
          },
          "hoverlabel": {
           "align": "left"
          },
          "hovermode": "closest",
          "mapbox": {
           "style": "light"
          },
          "paper_bgcolor": "white",
          "plot_bgcolor": "#E5ECF6",
          "polar": {
           "angularaxis": {
            "gridcolor": "white",
            "linecolor": "white",
            "ticks": ""
           },
           "bgcolor": "#E5ECF6",
           "radialaxis": {
            "gridcolor": "white",
            "linecolor": "white",
            "ticks": ""
           }
          },
          "scene": {
           "xaxis": {
            "backgroundcolor": "#E5ECF6",
            "gridcolor": "white",
            "gridwidth": 2,
            "linecolor": "white",
            "showbackground": true,
            "ticks": "",
            "zerolinecolor": "white"
           },
           "yaxis": {
            "backgroundcolor": "#E5ECF6",
            "gridcolor": "white",
            "gridwidth": 2,
            "linecolor": "white",
            "showbackground": true,
            "ticks": "",
            "zerolinecolor": "white"
           },
           "zaxis": {
            "backgroundcolor": "#E5ECF6",
            "gridcolor": "white",
            "gridwidth": 2,
            "linecolor": "white",
            "showbackground": true,
            "ticks": "",
            "zerolinecolor": "white"
           }
          },
          "shapedefaults": {
           "line": {
            "color": "#2a3f5f"
           }
          },
          "ternary": {
           "aaxis": {
            "gridcolor": "white",
            "linecolor": "white",
            "ticks": ""
           },
           "baxis": {
            "gridcolor": "white",
            "linecolor": "white",
            "ticks": ""
           },
           "bgcolor": "#E5ECF6",
           "caxis": {
            "gridcolor": "white",
            "linecolor": "white",
            "ticks": ""
           }
          },
          "title": {
           "x": 0.05
          },
          "xaxis": {
           "automargin": true,
           "gridcolor": "white",
           "linecolor": "white",
           "ticks": "",
           "title": {
            "standoff": 15
           },
           "zerolinecolor": "white",
           "zerolinewidth": 2
          },
          "yaxis": {
           "automargin": true,
           "gridcolor": "white",
           "linecolor": "white",
           "ticks": "",
           "title": {
            "standoff": 15
           },
           "zerolinecolor": "white",
           "zerolinewidth": 2
          }
         }
        },
        "title": {
         "text": "Global Stock Market Indices by Market Cap (Mapbox)"
        }
       }
      }
     },
     "metadata": {},
     "output_type": "display_data"
    }
   ],
   "source": [
    "import plotly.graph_objects as go\n",
    "import pandas as pd # We need pandas to create the DataFrame (df) used in the plot\n",
    "\n",
    "# --- 1. Define the missing DataFrame (df) ---\n",
    "# We create sample data representing a few major global indices, \n",
    "# including a numerical value (Market_Cap_Billion) to drive the colorization.\n",
    "data = {\n",
    "    'Index_Name': ['S&P 500 (USA)', 'FTSE 100 (UK)', 'Nikkei 225 (Japan)', 'Hang Seng (HK)'],\n",
    "    'Latitude': [40.7128, 51.5074, 35.6895, 22.3193],\n",
    "    'Longitude': [-74.0060, -0.1278, 139.6917, 114.1694],\n",
    "    'Market_Cap_Billion': [45000, 3500, 6000, 5000] \n",
    "}\n",
    "df = pd.DataFrame(data)\n",
    "\n",
    "# Initialize the figure object\n",
    "fig = go.Figure()\n",
    "\n",
    "# Add the Scattermapbox trace\n",
    "fig.add_trace(go.Scattermapbox(\n",
    "    lon = df['Longitude'],\n",
    "    lat = df['Latitude'],\n",
    "    mode = 'markers+text',\n",
    "    \n",
    "    # --- 2. Colorization Implementation ---\n",
    "    marker = dict(\n",
    "        # Set the size dynamically based on Market Cap\n",
    "        size = df['Market_Cap_Billion'] / 500, \n",
    "        \n",
    "        # Set the color dynamically based on Market Cap\n",
    "        color = df['Market_Cap_Billion'],      \n",
    "        \n",
    "        # Choose a dynamic colorscale (Try 'Viridis', 'Plasma', or 'Electric')\n",
    "        colorscale = 'Electric',               \n",
    "        showscale = True,                      # Display the color bar legend\n",
    "        colorbar = dict(\n",
    "            title=\"Market Cap ($B)\",\n",
    "            orientation=\"h\"\n",
    "        )\n",
    "    ),\n",
    "    text = df['Index_Name'],\n",
    "    textfont = dict(size=10, color='black'),\n",
    "    textposition = \"top right\",\n",
    "    hoverinfo = 'text',\n",
    "    hovertext = df['Index_Name'] + '<br>Market Cap: $' + (df['Market_Cap_Billion']).astype(str) + 'B'\n",
    "))\n",
    "\n",
    "# Configure the mapbox layout\n",
    "fig.update_layout(\n",
    "    title_text = 'Global Stock Market Indices by Market Cap (Mapbox)',\n",
    "    mapbox = dict(\n",
    "        style = 'open-street-map', # FREE, no API key required for this style!\n",
    "        zoom = 1.2,\n",
    "        center = dict(lon=20, lat=30)\n",
    "    ),\n",
    "    margin={\"r\":0,\"t\":50,\"l\":0,\"b\":0}\n",
    ")\n",
    "\n",
    "# This command is crucial: it opens the interactive Plotly figure \n",
    "# in your default web browser for viewing.\n",
    "fig.show()\n"
   ]
  },
  {
   "cell_type": "code",
   "execution_count": 7,
   "metadata": {},
   "outputs": [
    {
     "data": {
      "application/vnd.plotly.v1+json": {
       "config": {
        "plotlyServerURL": "https://plot.ly"
       },
       "data": [
        {
         "customdata": [
          [
           "ATX (Austria)<br>AEX (Netherlands)<br>AMX (Netherlands)",
           3
          ],
          [
           "Athex Composite (Greece)",
           1
          ],
          [
           "BEL 20 (Belgium)",
           1
          ],
          [
           "BUX (Hungary)",
           1
          ],
          [
           "EGX 30 Index (Egypt)",
           1
          ],
          [
           "ISEQ 20 (Ireland)",
           1
          ],
          [
           "DAX (Germany)<br>MDAX (Germany)<br>TecDAX (Germany)",
           3
          ],
          [
           "BIST 100 (Turkey)",
           1
          ],
          [
           "PSI-20 (Portugal)",
           1
          ],
          [
           "FTSE All-World<br>FTSE 100 Index (UK)<br>FTSE MID 250 Index (UK)<br>FTSE All-Share Index (UK)",
           4
          ],
          [
           "IBEX 35 (Spain)",
           1
          ],
          [
           "Madrid Stock Exchange General Index (Spain)",
           1
          ],
          [
           "FTSE MIB (Italy)",
           1
          ],
          [
           "OBX Index (Norway)",
           1
          ],
          [
           "CAC 40 (France)<br>CAC Next 20 (France)<br>SBF 120 (France)",
           3
          ],
          [
           "PX Index (Czech Republic)",
           1
          ],
          [
           "Tadawul All-Share Index (Saudi Arabia)",
           1
          ],
          [
           "OMX Copenhagen 25 (Denmark)<br>OMX Helsinki 25 (Finland)<br>OMX Stockholm 30 (Sweden)",
           3
          ],
          [
           "WIG20 (Poland)",
           1
          ],
          [
           "S&P Europe 350",
           1
          ],
          [
           "EURO STOXX 50<br>STOXX Europe 600<br>Swiss Market Index (SMI)",
           3
          ]
         ],
         "hovertemplate": "<b>%{hovertext}</b><br><br>Number of Indices: %{customdata[1]}<br>--------------------<br>%{customdata[0]}<extra></extra>",
         "hovertext": [
          "Amsterdam, Netherlands",
          "Athens, Greece",
          "Brussels, Belgium",
          "Budapest, Hungary",
          "Cairo, Egypt",
          "Dublin, Ireland",
          "Frankfurt, Germany",
          "Istanbul, Turkey",
          "Lisbon, Portugal",
          "London, UK",
          "Madrid, Spain",
          "Madrid, Spain",
          "Milan, Italy",
          "Oslo, Norway",
          "Paris, France",
          "Prague, Czech Republic",
          "Riyadh, Saudi Arabia",
          "Stockholm, Sweden",
          "Warsaw, Poland",
          "Zurich, Switzerland",
          "Zurich, Switzerland"
         ],
         "lat": [
          52.3730796,
          40.7127281,
          50.8465573,
          40.7127281,
          30.0443879,
          53.3493795,
          50.1106444,
          41.006381,
          38.7077507,
          51.4893335,
          40.416782,
          40.7127281,
          45.4641943,
          40.7127281,
          48.8534951,
          40.7127281,
          23.333333,
          59.3251172,
          40.7127281,
          40.7127281,
          47.3744489
         ],
         "legendgroup": "Europe & EMEA",
         "lon": [
          4.8924534,
          -74.0060152,
          4.351697,
          -74.0060152,
          31.2357257,
          -6.2605593,
          8.6820917,
          28.9758715,
          -9.1365919,
          -0.1440551,
          -3.703507,
          -74.0060152,
          9.1896346,
          -74.0060152,
          2.3483915,
          -74.0060152,
          45.333333,
          18.0710935,
          -74.0060152,
          -74.0060152,
          8.5410422
         ],
         "marker": {
          "color": "#636efa",
          "size": [
           3,
           1,
           1,
           1,
           1,
           1,
           3,
           1,
           1,
           4,
           1,
           1,
           1,
           1,
           3,
           1,
           1,
           3,
           1,
           1,
           3
          ],
          "sizemode": "area",
          "sizeref": 0.0112
         },
         "mode": "markers",
         "name": "Europe & EMEA",
         "showlegend": true,
         "subplot": "mapbox",
         "type": "scattermapbox"
        },
        {
         "customdata": [
          [
           "SET Index (Thailand)",
           1
          ],
          [
           "All Share Price Index (Sri Lanka)",
           1
          ],
          [
           "Hang Seng Index (Hong Kong)",
           1
          ],
          [
           "S&P Asia 50",
           1
          ],
          [
           "IDX Composite (Indonesia)",
           1
          ],
          [
           "KSE 100 Index (Pakistan)",
           1
          ],
          [
           "FTSE Bursa Malaysia KLCI",
           1
          ],
          [
           "BSE SENSEX (India)<br>NIFTY 50 (India)<br>NIFTY Next 50 (India)",
           3
          ],
          [
           "KOSPI (South Korea)",
           1
          ],
          [
           "SSE Composite Index (China)<br>SZSE Component Index (China)<br>CSI 300 Index (China)<br>SSE 50 Index (China)",
           4
          ],
          [
           "Straits Times Index (STI) Singapore",
           1
          ],
          [
           "All Ordinaries (Australia)<br>S&P/ASX 200 (Australia)<br>S&P/ASX 300 (Australia)",
           3
          ],
          [
           "TAIEX (Taiwan)",
           1
          ],
          [
           "Nikkei 225 (Japan)",
           1
          ],
          [
           "TOPIX (Japan)",
           1
          ],
          [
           "S&P/NZX 50 (New Zealand)",
           1
          ]
         ],
         "hovertemplate": "<b>%{hovertext}</b><br><br>Number of Indices: %{customdata[1]}<br>--------------------<br>%{customdata[0]}<extra></extra>",
         "hovertext": [
          "Bangkok, Thailand",
          "Colombo, Sri Lanka",
          "Hong Kong",
          "Hong Kong",
          "Jakarta, Indonesia",
          "Karachi, Pakistan",
          "Kuala Lumpur, Malaysia",
          "Mumbai, India",
          "Seoul, South Korea",
          "Shanghai, China",
          "Singapore",
          "Sydney, Australia",
          "Taipei, Taiwan",
          "Tokyo, Japan",
          "Tokyo, Japan",
          "Wellington, New Zealand"
         ],
         "lat": [
          13.7524938,
          40.7127281,
          22.350627,
          40.7127281,
          -6.1754049,
          40.7127281,
          3.1526589,
          19.054999,
          37.5666791,
          31.2312707,
          1.357107,
          -33.8698439,
          25.0375198,
          35.6768601,
          50.1106444,
          -41.2887953
         ],
         "legendgroup": "Asia-Pacific",
         "lon": [
          100.4935089,
          -74.0060152,
          114.1849161,
          -74.0060152,
          106.827168,
          -74.0060152,
          101.7022205,
          72.8692035,
          126.9782914,
          121.4700152,
          103.8194992,
          151.2082848,
          121.5636796,
          139.7638947,
          8.6820917,
          174.7772114
         ],
         "marker": {
          "color": "#EF553B",
          "size": [
           1,
           1,
           1,
           1,
           1,
           1,
           1,
           3,
           1,
           4,
           1,
           3,
           1,
           1,
           1,
           1
          ],
          "sizemode": "area",
          "sizeref": 0.0112
         },
         "mode": "markers",
         "name": "Asia-Pacific",
         "showlegend": true,
         "subplot": "mapbox",
         "type": "scattermapbox"
        },
        {
         "customdata": [
          [
           "MERVAL (Argentina)",
           1
          ],
          [
           "Indice Bursatil de Capitalizacion (IBC) Venezuela",
           1
          ],
          [
           "S&P/BVL Peru General Index",
           1
          ],
          [
           "Indice de Precios y Cotizaciones (IPC) Mexico",
           1
          ],
          [
           "Dow Jones Global Titans 50<br>MSCI World<br>S&P Global 100<br>S&P Global 1200<br>The Global Dow<br>MSCI EAFE<br>S&P Latin America 40<br>MASI index (Morocco)<br>Dow Jones Industrial Average<br>Dow Jones Transportation Average<br>... and 18 more.",
           28
          ],
          [
           "IPSA (Chile)",
           1
          ],
          [
           "Indice Bovespa (Brazil)",
           1
          ],
          [
           "S&P/TSX Composite Index (Canada)<br>NYSE Arca Major Market Index",
           2
          ]
         ],
         "hovertemplate": "<b>%{hovertext}</b><br><br>Number of Indices: %{customdata[1]}<br>--------------------<br>%{customdata[0]}<extra></extra>",
         "hovertext": [
          "Buenos Aires, Argentina",
          "Caracas, Venezuela",
          "Lima, Peru",
          "Mexico City, Mexico",
          "New York, USA",
          "Santiago, Chile",
          "São Paulo, Brazil",
          "Toronto, Canada"
         ],
         "lat": [
          -34.6095579,
          40.7127281,
          40.7127281,
          19.3207722,
          40.7127281,
          -33.4377756,
          -23.5506507,
          43.6534817
         ],
         "legendgroup": "Americas",
         "lon": [
          -58.3887904,
          -74.0060152,
          -74.0060152,
          -99.1514678,
          -74.0060152,
          -70.6504502,
          -46.6333824,
          -79.3839347
         ],
         "marker": {
          "color": "#00cc96",
          "size": [
           1,
           1,
           1,
           1,
           28,
           1,
           1,
           2
          ],
          "sizemode": "area",
          "sizeref": 0.0112
         },
         "mode": "markers",
         "name": "Americas",
         "showlegend": true,
         "subplot": "mapbox",
         "type": "scattermapbox"
        }
       ],
       "layout": {
        "legend": {
         "itemsizing": "constant",
         "title": {
          "text": "Region"
         },
         "tracegroupgap": 0
        },
        "mapbox": {
         "center": {
          "lat": 30,
          "lon": 20
         },
         "domain": {
          "x": [
           0,
           1
          ],
          "y": [
           0,
           1
          ]
         },
         "style": "carto-positron",
         "zoom": 1.2
        },
        "margin": {
         "b": 0,
         "l": 0,
         "r": 0,
         "t": 50
        },
        "template": {
         "data": {
          "bar": [
           {
            "error_x": {
             "color": "#2a3f5f"
            },
            "error_y": {
             "color": "#2a3f5f"
            },
            "marker": {
             "line": {
              "color": "#E5ECF6",
              "width": 0.5
             },
             "pattern": {
              "fillmode": "overlay",
              "size": 10,
              "solidity": 0.2
             }
            },
            "type": "bar"
           }
          ],
          "barpolar": [
           {
            "marker": {
             "line": {
              "color": "#E5ECF6",
              "width": 0.5
             },
             "pattern": {
              "fillmode": "overlay",
              "size": 10,
              "solidity": 0.2
             }
            },
            "type": "barpolar"
           }
          ],
          "carpet": [
           {
            "aaxis": {
             "endlinecolor": "#2a3f5f",
             "gridcolor": "white",
             "linecolor": "white",
             "minorgridcolor": "white",
             "startlinecolor": "#2a3f5f"
            },
            "baxis": {
             "endlinecolor": "#2a3f5f",
             "gridcolor": "white",
             "linecolor": "white",
             "minorgridcolor": "white",
             "startlinecolor": "#2a3f5f"
            },
            "type": "carpet"
           }
          ],
          "choropleth": [
           {
            "colorbar": {
             "outlinewidth": 0,
             "ticks": ""
            },
            "type": "choropleth"
           }
          ],
          "contour": [
           {
            "colorbar": {
             "outlinewidth": 0,
             "ticks": ""
            },
            "colorscale": [
             [
              0,
              "#0d0887"
             ],
             [
              0.1111111111111111,
              "#46039f"
             ],
             [
              0.2222222222222222,
              "#7201a8"
             ],
             [
              0.3333333333333333,
              "#9c179e"
             ],
             [
              0.4444444444444444,
              "#bd3786"
             ],
             [
              0.5555555555555556,
              "#d8576b"
             ],
             [
              0.6666666666666666,
              "#ed7953"
             ],
             [
              0.7777777777777778,
              "#fb9f3a"
             ],
             [
              0.8888888888888888,
              "#fdca26"
             ],
             [
              1,
              "#f0f921"
             ]
            ],
            "type": "contour"
           }
          ],
          "contourcarpet": [
           {
            "colorbar": {
             "outlinewidth": 0,
             "ticks": ""
            },
            "type": "contourcarpet"
           }
          ],
          "heatmap": [
           {
            "colorbar": {
             "outlinewidth": 0,
             "ticks": ""
            },
            "colorscale": [
             [
              0,
              "#0d0887"
             ],
             [
              0.1111111111111111,
              "#46039f"
             ],
             [
              0.2222222222222222,
              "#7201a8"
             ],
             [
              0.3333333333333333,
              "#9c179e"
             ],
             [
              0.4444444444444444,
              "#bd3786"
             ],
             [
              0.5555555555555556,
              "#d8576b"
             ],
             [
              0.6666666666666666,
              "#ed7953"
             ],
             [
              0.7777777777777778,
              "#fb9f3a"
             ],
             [
              0.8888888888888888,
              "#fdca26"
             ],
             [
              1,
              "#f0f921"
             ]
            ],
            "type": "heatmap"
           }
          ],
          "heatmapgl": [
           {
            "colorbar": {
             "outlinewidth": 0,
             "ticks": ""
            },
            "colorscale": [
             [
              0,
              "#0d0887"
             ],
             [
              0.1111111111111111,
              "#46039f"
             ],
             [
              0.2222222222222222,
              "#7201a8"
             ],
             [
              0.3333333333333333,
              "#9c179e"
             ],
             [
              0.4444444444444444,
              "#bd3786"
             ],
             [
              0.5555555555555556,
              "#d8576b"
             ],
             [
              0.6666666666666666,
              "#ed7953"
             ],
             [
              0.7777777777777778,
              "#fb9f3a"
             ],
             [
              0.8888888888888888,
              "#fdca26"
             ],
             [
              1,
              "#f0f921"
             ]
            ],
            "type": "heatmapgl"
           }
          ],
          "histogram": [
           {
            "marker": {
             "pattern": {
              "fillmode": "overlay",
              "size": 10,
              "solidity": 0.2
             }
            },
            "type": "histogram"
           }
          ],
          "histogram2d": [
           {
            "colorbar": {
             "outlinewidth": 0,
             "ticks": ""
            },
            "colorscale": [
             [
              0,
              "#0d0887"
             ],
             [
              0.1111111111111111,
              "#46039f"
             ],
             [
              0.2222222222222222,
              "#7201a8"
             ],
             [
              0.3333333333333333,
              "#9c179e"
             ],
             [
              0.4444444444444444,
              "#bd3786"
             ],
             [
              0.5555555555555556,
              "#d8576b"
             ],
             [
              0.6666666666666666,
              "#ed7953"
             ],
             [
              0.7777777777777778,
              "#fb9f3a"
             ],
             [
              0.8888888888888888,
              "#fdca26"
             ],
             [
              1,
              "#f0f921"
             ]
            ],
            "type": "histogram2d"
           }
          ],
          "histogram2dcontour": [
           {
            "colorbar": {
             "outlinewidth": 0,
             "ticks": ""
            },
            "colorscale": [
             [
              0,
              "#0d0887"
             ],
             [
              0.1111111111111111,
              "#46039f"
             ],
             [
              0.2222222222222222,
              "#7201a8"
             ],
             [
              0.3333333333333333,
              "#9c179e"
             ],
             [
              0.4444444444444444,
              "#bd3786"
             ],
             [
              0.5555555555555556,
              "#d8576b"
             ],
             [
              0.6666666666666666,
              "#ed7953"
             ],
             [
              0.7777777777777778,
              "#fb9f3a"
             ],
             [
              0.8888888888888888,
              "#fdca26"
             ],
             [
              1,
              "#f0f921"
             ]
            ],
            "type": "histogram2dcontour"
           }
          ],
          "mesh3d": [
           {
            "colorbar": {
             "outlinewidth": 0,
             "ticks": ""
            },
            "type": "mesh3d"
           }
          ],
          "parcoords": [
           {
            "line": {
             "colorbar": {
              "outlinewidth": 0,
              "ticks": ""
             }
            },
            "type": "parcoords"
           }
          ],
          "pie": [
           {
            "automargin": true,
            "type": "pie"
           }
          ],
          "scatter": [
           {
            "fillpattern": {
             "fillmode": "overlay",
             "size": 10,
             "solidity": 0.2
            },
            "type": "scatter"
           }
          ],
          "scatter3d": [
           {
            "line": {
             "colorbar": {
              "outlinewidth": 0,
              "ticks": ""
             }
            },
            "marker": {
             "colorbar": {
              "outlinewidth": 0,
              "ticks": ""
             }
            },
            "type": "scatter3d"
           }
          ],
          "scattercarpet": [
           {
            "marker": {
             "colorbar": {
              "outlinewidth": 0,
              "ticks": ""
             }
            },
            "type": "scattercarpet"
           }
          ],
          "scattergeo": [
           {
            "marker": {
             "colorbar": {
              "outlinewidth": 0,
              "ticks": ""
             }
            },
            "type": "scattergeo"
           }
          ],
          "scattergl": [
           {
            "marker": {
             "colorbar": {
              "outlinewidth": 0,
              "ticks": ""
             }
            },
            "type": "scattergl"
           }
          ],
          "scattermapbox": [
           {
            "marker": {
             "colorbar": {
              "outlinewidth": 0,
              "ticks": ""
             }
            },
            "type": "scattermapbox"
           }
          ],
          "scatterpolar": [
           {
            "marker": {
             "colorbar": {
              "outlinewidth": 0,
              "ticks": ""
             }
            },
            "type": "scatterpolar"
           }
          ],
          "scatterpolargl": [
           {
            "marker": {
             "colorbar": {
              "outlinewidth": 0,
              "ticks": ""
             }
            },
            "type": "scatterpolargl"
           }
          ],
          "scatterternary": [
           {
            "marker": {
             "colorbar": {
              "outlinewidth": 0,
              "ticks": ""
             }
            },
            "type": "scatterternary"
           }
          ],
          "surface": [
           {
            "colorbar": {
             "outlinewidth": 0,
             "ticks": ""
            },
            "colorscale": [
             [
              0,
              "#0d0887"
             ],
             [
              0.1111111111111111,
              "#46039f"
             ],
             [
              0.2222222222222222,
              "#7201a8"
             ],
             [
              0.3333333333333333,
              "#9c179e"
             ],
             [
              0.4444444444444444,
              "#bd3786"
             ],
             [
              0.5555555555555556,
              "#d8576b"
             ],
             [
              0.6666666666666666,
              "#ed7953"
             ],
             [
              0.7777777777777778,
              "#fb9f3a"
             ],
             [
              0.8888888888888888,
              "#fdca26"
             ],
             [
              1,
              "#f0f921"
             ]
            ],
            "type": "surface"
           }
          ],
          "table": [
           {
            "cells": {
             "fill": {
              "color": "#EBF0F8"
             },
             "line": {
              "color": "white"
             }
            },
            "header": {
             "fill": {
              "color": "#C8D4E3"
             },
             "line": {
              "color": "white"
             }
            },
            "type": "table"
           }
          ]
         },
         "layout": {
          "annotationdefaults": {
           "arrowcolor": "#2a3f5f",
           "arrowhead": 0,
           "arrowwidth": 1
          },
          "autotypenumbers": "strict",
          "coloraxis": {
           "colorbar": {
            "outlinewidth": 0,
            "ticks": ""
           }
          },
          "colorscale": {
           "diverging": [
            [
             0,
             "#8e0152"
            ],
            [
             0.1,
             "#c51b7d"
            ],
            [
             0.2,
             "#de77ae"
            ],
            [
             0.3,
             "#f1b6da"
            ],
            [
             0.4,
             "#fde0ef"
            ],
            [
             0.5,
             "#f7f7f7"
            ],
            [
             0.6,
             "#e6f5d0"
            ],
            [
             0.7,
             "#b8e186"
            ],
            [
             0.8,
             "#7fbc41"
            ],
            [
             0.9,
             "#4d9221"
            ],
            [
             1,
             "#276419"
            ]
           ],
           "sequential": [
            [
             0,
             "#0d0887"
            ],
            [
             0.1111111111111111,
             "#46039f"
            ],
            [
             0.2222222222222222,
             "#7201a8"
            ],
            [
             0.3333333333333333,
             "#9c179e"
            ],
            [
             0.4444444444444444,
             "#bd3786"
            ],
            [
             0.5555555555555556,
             "#d8576b"
            ],
            [
             0.6666666666666666,
             "#ed7953"
            ],
            [
             0.7777777777777778,
             "#fb9f3a"
            ],
            [
             0.8888888888888888,
             "#fdca26"
            ],
            [
             1,
             "#f0f921"
            ]
           ],
           "sequentialminus": [
            [
             0,
             "#0d0887"
            ],
            [
             0.1111111111111111,
             "#46039f"
            ],
            [
             0.2222222222222222,
             "#7201a8"
            ],
            [
             0.3333333333333333,
             "#9c179e"
            ],
            [
             0.4444444444444444,
             "#bd3786"
            ],
            [
             0.5555555555555556,
             "#d8576b"
            ],
            [
             0.6666666666666666,
             "#ed7953"
            ],
            [
             0.7777777777777778,
             "#fb9f3a"
            ],
            [
             0.8888888888888888,
             "#fdca26"
            ],
            [
             1,
             "#f0f921"
            ]
           ]
          },
          "colorway": [
           "#636efa",
           "#EF553B",
           "#00cc96",
           "#ab63fa",
           "#FFA15A",
           "#19d3f3",
           "#FF6692",
           "#B6E880",
           "#FF97FF",
           "#FECB52"
          ],
          "font": {
           "color": "#2a3f5f"
          },
          "geo": {
           "bgcolor": "white",
           "lakecolor": "white",
           "landcolor": "#E5ECF6",
           "showlakes": true,
           "showland": true,
           "subunitcolor": "white"
          },
          "hoverlabel": {
           "align": "left"
          },
          "hovermode": "closest",
          "mapbox": {
           "style": "light"
          },
          "paper_bgcolor": "white",
          "plot_bgcolor": "#E5ECF6",
          "polar": {
           "angularaxis": {
            "gridcolor": "white",
            "linecolor": "white",
            "ticks": ""
           },
           "bgcolor": "#E5ECF6",
           "radialaxis": {
            "gridcolor": "white",
            "linecolor": "white",
            "ticks": ""
           }
          },
          "scene": {
           "xaxis": {
            "backgroundcolor": "#E5ECF6",
            "gridcolor": "white",
            "gridwidth": 2,
            "linecolor": "white",
            "showbackground": true,
            "ticks": "",
            "zerolinecolor": "white"
           },
           "yaxis": {
            "backgroundcolor": "#E5ECF6",
            "gridcolor": "white",
            "gridwidth": 2,
            "linecolor": "white",
            "showbackground": true,
            "ticks": "",
            "zerolinecolor": "white"
           },
           "zaxis": {
            "backgroundcolor": "#E5ECF6",
            "gridcolor": "white",
            "gridwidth": 2,
            "linecolor": "white",
            "showbackground": true,
            "ticks": "",
            "zerolinecolor": "white"
           }
          },
          "shapedefaults": {
           "line": {
            "color": "#2a3f5f"
           }
          },
          "ternary": {
           "aaxis": {
            "gridcolor": "white",
            "linecolor": "white",
            "ticks": ""
           },
           "baxis": {
            "gridcolor": "white",
            "linecolor": "white",
            "ticks": ""
           },
           "bgcolor": "#E5ECF6",
           "caxis": {
            "gridcolor": "white",
            "linecolor": "white",
            "ticks": ""
           }
          },
          "title": {
           "x": 0.05
          },
          "xaxis": {
           "automargin": true,
           "gridcolor": "white",
           "linecolor": "white",
           "ticks": "",
           "title": {
            "standoff": 15
           },
           "zerolinecolor": "white",
           "zerolinewidth": 2
          },
          "yaxis": {
           "automargin": true,
           "gridcolor": "white",
           "linecolor": "white",
           "ticks": "",
           "title": {
            "standoff": 15
           },
           "zerolinecolor": "white",
           "zerolinewidth": 2
          }
         }
        },
        "title": {
         "text": "Global Stock Market Indices: Major Financial Centers (Corrected)"
        }
       }
      }
     },
     "metadata": {},
     "output_type": "display_data"
    },
    {
     "name": "stdout",
     "output_type": "stream",
     "text": [
      "\n",
      "============================================================\n",
      "--- Detailed Lists for Major Financial Hubs (Corrected Data) ---\n",
      "============================================================\n",
      "\n",
      "📍 New York, USA (28 Indices):\n",
      "   - Dow Jones Global Titans 50\n",
      "   - MSCI World\n",
      "   - S&P Global 100\n",
      "   - S&P Global 1200\n",
      "   - The Global Dow\n",
      "   - MSCI EAFE\n",
      "   - S&P Latin America 40\n",
      "   - MASI index (Morocco)\n",
      "   - Dow Jones Industrial Average\n",
      "   - Dow Jones Transportation Average\n",
      "   - Dow Jones Utility Average\n",
      "   - Nasdaq Composite\n",
      "   - Nasdaq-100\n",
      "   - Russell 1000\n",
      "   - Russell 2000\n",
      "   - Russell 3000\n",
      "   - Russell MidCap\n",
      "   - S&P 100\n",
      "   - S&P 500\n",
      "   - S&P MidCap 400\n",
      "   - S&P SmallCap 600\n",
      "   - Wilshire 5000\n",
      "   - FTSE 350 Index (UK)\n",
      "   - Amex Oil Index (Energy)\n",
      "   - PHLX Semiconductor Sector (Electronics)\n",
      "   - HUI Gold Index (Metals)\n",
      "   - Philadelphia Gold and Silver Index (Metals)\n",
      "   - Palisades Water Index (ZWI)\n",
      "\n",
      "📍 Shanghai, China (4 Indices):\n",
      "   - SSE Composite Index (China)\n",
      "   - SZSE Component Index (China)\n",
      "   - CSI 300 Index (China)\n",
      "   - SSE 50 Index (China)\n",
      "\n",
      "📍 London, UK (4 Indices):\n",
      "   - FTSE All-World\n",
      "   - FTSE 100 Index (UK)\n",
      "   - FTSE MID 250 Index (UK)\n",
      "   - FTSE All-Share Index (UK)\n",
      "\n",
      "📍 Frankfurt, Germany (3 Indices):\n",
      "   - DAX (Germany)\n",
      "   - MDAX (Germany)\n",
      "   - TecDAX (Germany)\n",
      "\n",
      "📍 Amsterdam, Netherlands (3 Indices):\n",
      "   - ATX (Austria)\n",
      "   - AEX (Netherlands)\n",
      "   - AMX (Netherlands)\n",
      "\n",
      "📍 Mumbai, India (3 Indices):\n",
      "   - BSE SENSEX (India)\n",
      "   - NIFTY 50 (India)\n",
      "   - NIFTY Next 50 (India)\n",
      "\n",
      "📍 Paris, France (3 Indices):\n",
      "   - CAC 40 (France)\n",
      "   - CAC Next 20 (France)\n",
      "   - SBF 120 (France)\n",
      "\n",
      "📍 Stockholm, Sweden (3 Indices):\n",
      "   - OMX Copenhagen 25 (Denmark)\n",
      "   - OMX Helsinki 25 (Finland)\n",
      "   - OMX Stockholm 30 (Sweden)\n",
      "\n",
      "📍 Sydney, Australia (3 Indices):\n",
      "   - All Ordinaries (Australia)\n",
      "   - S&P/ASX 200 (Australia)\n",
      "   - S&P/ASX 300 (Australia)\n",
      "\n",
      "📍 Zurich, Switzerland (3 Indices):\n",
      "   - EURO STOXX 50\n",
      "   - STOXX Europe 600\n",
      "   - Swiss Market Index (SMI)\n",
      "\n",
      "📍 Toronto, Canada (2 Indices):\n",
      "   - S&P/TSX Composite Index (Canada)\n",
      "   - NYSE Arca Major Market Index\n"
     ]
    }
   ],
   "source": [
    "import pandas as pd\n",
    "import plotly.express as px  # Import the high-level express library\n",
    "\n",
    "\n",
    "\n",
    "# --- 1. Load and Prepare Your Actual Data ---\n",
    "# Make sure this CSV file is in the same directory as your script,\n",
    "# or provide the full path to it.\n",
    "CSV_FILE_PATH = r'D:\\Stock-Market-Indices\\data\\stock_indices_locations_final.csv'\n",
    "try:\n",
    "    df = pd.read_csv(CSV_FILE_PATH)\n",
    "except FileNotFoundError:\n",
    "    print(f\"Error: The file '{CSV_FILE_PATH}' was not found.\")\n",
    "    exit()\n",
    "\n",
    "# --- 2. Data Cleaning ---\n",
    "df.dropna(subset=['Latitude', 'Longitude'], inplace=True)\n",
    "# (Location data will be regenerated, so we don't need to convert lat/lon here yet)\n",
    "\n",
    "# --- 3. THE DEFINITIVE FIX: Manual Override Dictionary ---\n",
    "# This dictionary is now the primary source of truth for all known problematic tickers.\n",
    "TICKER_TO_CITY_OVERRIDE = {\n",
    "    # Asia-Pacific Corrections\n",
    "    \"TPX.F\": \"Tokyo, Japan\",\n",
    "    \"^KSE\": \"Karachi, Pakistan\",\n",
    "    \"^CSE\": \"Colombo, Sri Lanka\",\n",
    "    \"^VNINDEX\": \"Ho Chi Minh City, Vietnam\",\n",
    "    # European Corrections\n",
    "    \"^CROBEX\": \"Zagreb, Croatia\",\n",
    "    \"^PX\": \"Prague, Czech Republic\",\n",
    "    \"^ATG\": \"Athens, Greece\",\n",
    "    \"^BUX\": \"Budapest, Hungary\",\n",
    "    \"^OBX\": \"Oslo, Norway\",\n",
    "    \"^WIG20\": \"Warsaw, Poland\",\n",
    "    \"^BELEX15\": \"Belgrade, Serbia\",\n",
    "    \"^SMSI\": \"Madrid, Spain\",\n",
    "    \"^SLI\": \"Zurich, Switzerland\",\n",
    "    # Americas Corrections\n",
    "    \"^SPBLPGPT\": \"Lima, Peru\",\n",
    "    \"^IBC\": \"Caracas, Venezuela\",\n",
    "    # Defaulting to New York Corrections\n",
    "    \"AIA\": \"Hong Kong\", # S&P Asia 50 ETF\n",
    "    \"IEV\": \"Zurich, Switzerland\", # S&P Europe 350 ETF\n",
    "    \"ILF\": \"New York, USA\", # S&P Latin America 40 ETF is US-based\n",
    "}\n",
    "\n",
    "# --- 4. A New, More Robust Location Assignment Logic ---\n",
    "# We regenerate the 'City' column based on our new two-layered approach.\n",
    "def get_correct_city(row):\n",
    "    ticker = row['Ticker']\n",
    "    # Layer 1: Check our manual override first\n",
    "    if ticker in TICKER_TO_CITY_OVERRIDE:\n",
    "        return TICKER_TO_CITY_OVERRIDE[ticker]\n",
    "    # Layer 2: If not in override, use the original City from the CSV\n",
    "    else:\n",
    "        return row['City']\n",
    "\n",
    "df['Corrected_City'] = df.apply(get_correct_city, axis=1)\n",
    "\n",
    "# --- 5. Assign Regions based on the CORRECTED City ---\n",
    "def assign_region(city_string):\n",
    "    if not isinstance(city_string, str): return 'Other'\n",
    "    city_lower = city_string.lower()\n",
    "    americas_locations = ['usa', 'canada', 'mexico', 'brazil', 'argentina', 'chile', 'colombia', 'peru', 'venezuela']\n",
    "    if any(loc in city_lower for loc in americas_locations): return 'Americas'\n",
    "    emea_locations = ['uk', 'germany', 'france', 'switzerland', 'spain', 'italy', 'netherlands', 'belgium', 'sweden', 'denmark', 'finland', 'norway', 'poland', 'austria', 'greece', 'ireland', 'portugal', 'hungary', 'czech', 'south africa', 'egypt', 'morocco', 'israel', 'saudi arabia', 'turkey', 'serbia', 'croatia']\n",
    "    if any(loc in city_lower for loc in emea_locations): return 'Europe & EMEA'\n",
    "    apac_locations = ['japan', 'china', 'hong kong', 'india', 'australia', 'south korea', 'taiwan', 'singapore', 'indonesia', 'malaysia', 'thailand', 'philippines', 'pakistan', 'new zealand', 'sri lanka', 'vietnam']\n",
    "    if any(loc in city_lower for loc in apac_locations): return 'Asia-Pacific'\n",
    "    return 'Other'\n",
    "\n",
    "df['Region'] = df['Corrected_City'].apply(assign_region)\n",
    "\n",
    "# --- 6. Aggregate Data by the CORRECTED Location ---\n",
    "location_groups = df.groupby(['Corrected_City', 'Latitude', 'Longitude', 'Region'])\n",
    "def format_hover_names(names, limit=10):\n",
    "    if len(names) > limit:\n",
    "        return '<br>'.join(names.head(limit)) + f'<br>... and {len(names) - limit} more.'\n",
    "    return '<br>'.join(names)\n",
    "aggregated_df = location_groups.agg(\n",
    "    Index_Count=('Ticker', 'size'),\n",
    "    Hover_Text=('Index Name', format_hover_names),\n",
    "    Full_List=('Index Name', lambda names: list(names))\n",
    ").reset_index()\n",
    "\n",
    "# --- 7. Create the Plot ---\n",
    "fig = px.scatter_mapbox(\n",
    "    data_frame=aggregated_df,\n",
    "    lat=\"Latitude\",\n",
    "    lon=\"Longitude\",\n",
    "    color=\"Region\",\n",
    "    size=\"Index_Count\",\n",
    "    size_max=50,\n",
    "    hover_name=\"Corrected_City\",\n",
    "    hover_data={\"Hover_Text\": True, \"Index_Count\": True},\n",
    "    title=\"Global Stock Market Indices: Major Financial Centers (Corrected)\",\n",
    "    zoom=1.2,\n",
    "    center={\"lat\": 30, \"lon\": 20}\n",
    ")\n",
    "fig.update_traces(hovertemplate=\"<b>%{hovertext}</b><br><br>Number of Indices: %{customdata[1]}<br>--------------------<br>%{customdata[0]}<extra></extra>\")\n",
    "fig.update_layout(mapbox_style=\"carto-positron\", margin={\"r\":0,\"t\":50,\"l\":0,\"b\":0}, legend_title_text='Region')\n",
    "fig.show()\n",
    "\n",
    "# --- 8. Print the Corrected Detailed List ---\n",
    "print(\"\\n\" + \"=\"*60)\n",
    "print(\"--- Detailed Lists for Major Financial Hubs (Corrected Data) ---\")\n",
    "print(\"=\"*60)\n",
    "major_hubs = aggregated_df[aggregated_df['Index_Count'] > 1].sort_values('Index_Count', ascending=False)\n",
    "for index, row in major_hubs.iterrows():\n",
    "    print(f\"\\n📍 {row['Corrected_City']} ({row['Index_Count']} Indices):\")\n",
    "    for idx_name in row['Full_List']:\n",
    "        print(f\"   - {idx_name}\")"
   ]
  },
  {
   "cell_type": "code",
   "execution_count": 10,
   "metadata": {},
   "outputs": [
    {
     "name": "stderr",
     "output_type": "stream",
     "text": [
      "2025-10-26 16:25:51,207 - INFO - Fetching coordinates for 54 unique cities...\n"
     ]
    },
    {
     "data": {
      "application/vnd.plotly.v1+json": {
       "config": {
        "plotlyServerURL": "https://plot.ly"
       },
       "data": [
        {
         "customdata": [
          [
           "AEX (Netherlands)<br>AMX (Netherlands)",
           2
          ],
          [
           "Athex Composite (Greece)",
           1
          ],
          [
           "BELEX15 (Serbia)",
           1
          ],
          [
           "BEL 20 (Belgium)",
           1
          ],
          [
           "BUX (Hungary)",
           1
          ],
          [
           "EGX 30 Index (Egypt)",
           1
          ],
          [
           "MASI index (Morocco)",
           1
          ],
          [
           "OMX Copenhagen 25 (Denmark)",
           1
          ],
          [
           "ISEQ 20 (Ireland)",
           1
          ],
          [
           "DAX (Germany)<br>MDAX (Germany)<br>TecDAX (Germany)",
           3
          ],
          [
           "OMX Helsinki 25 (Finland)",
           1
          ],
          [
           "BIST 100 (Turkey)",
           1
          ],
          [
           "FTSE/JSE Top 40 Index (South Africa)",
           1
          ],
          [
           "PSI-20 (Portugal)",
           1
          ],
          [
           "FTSE All-World<br>FTSE 100 Index (UK)<br>FTSE MID 250 Index (UK)<br>FTSE 350 Index (UK)<br>FTSE All-Share Index (UK)",
           5
          ],
          [
           "IBEX 35 (Spain)<br>Madrid Stock Exchange General Index (Spain)",
           2
          ],
          [
           "FTSE MIB (Italy)",
           1
          ],
          [
           "OBX Index (Norway)",
           1
          ],
          [
           "CAC 40 (France)<br>CAC Next 20 (France)<br>SBF 120 (France)",
           3
          ],
          [
           "PX Index (Czech Republic)",
           1
          ],
          [
           "Tadawul All-Share Index (Saudi Arabia)",
           1
          ],
          [
           "OMX Stockholm 30 (Sweden)",
           1
          ],
          [
           "TA-125 Index (Israel)<br>TA-35 Index (Israel)",
           2
          ],
          [
           "ATX (Austria)",
           1
          ],
          [
           "WIG20 (Poland)",
           1
          ],
          [
           "CROBEX (Croatia)",
           1
          ],
          [
           "EURO STOXX 50<br>STOXX Europe 600<br>S&P Europe 350<br>Swiss Market Index (SMI)<br>Swiss Leader Index (SLI)",
           5
          ]
         ],
         "hovertemplate": "<b>%{hovertext}</b><br><br>Number of Indices: %{customdata[1]}<br>--------------------<br>%{customdata[0]}<extra></extra>",
         "hovertext": [
          "Amsterdam, Netherlands",
          "Athens, Greece",
          "Belgrade, Serbia",
          "Brussels, Belgium",
          "Budapest, Hungary",
          "Cairo, Egypt",
          "Casablanca, Morocco",
          "Copenhagen, Denmark",
          "Dublin, Ireland",
          "Frankfurt, Germany",
          "Helsinki, Finland",
          "Istanbul, Turkey",
          "Johannesburg, South Africa",
          "Lisbon, Portugal",
          "London, UK",
          "Madrid, Spain",
          "Milan, Italy",
          "Oslo, Norway",
          "Paris, France",
          "Prague, Czech Republic",
          "Riyadh, Saudi Arabia",
          "Stockholm, Sweden",
          "Tel Aviv, Israel",
          "Vienna, Austria",
          "Warsaw, Poland",
          "Zagreb, Croatia",
          "Zurich, Switzerland"
         ],
         "lat": [
          "52.3730796",
          "37.9755648",
          "44.8178131",
          "50.8465573",
          "47.4978789",
          "30.0443879",
          "33.5945144",
          "55.6867243",
          "53.3493795",
          "50.1106444",
          "60.1698897",
          "41.0063810",
          "-26.2050000",
          "38.7077507",
          "51.4893335",
          "40.4167820",
          "45.4641943",
          "59.9133301",
          "48.8588897",
          "50.0874654",
          "23.3333330",
          "59.3251172",
          "32.0852997",
          "48.2083537",
          "52.2319581",
          "45.8130967",
          "47.3744489"
         ],
         "legendgroup": "Europe & EMEA",
         "lon": [
          "4.8924534",
          "23.7348324",
          "20.4568974",
          "4.3516970",
          "19.0402383",
          "31.2357257",
          "-7.6200284",
          "12.5700724",
          "-6.2605593",
          "8.6820917",
          "24.9384719",
          "28.9758715",
          "28.0497220",
          "-9.1365919",
          "-0.1440551",
          "-3.7035070",
          "9.1896346",
          "10.7389701",
          "2.3200410",
          "14.4212535",
          "45.3333330",
          "18.0710935",
          "34.7818064",
          "16.3725042",
          "21.0067249",
          "15.9772795",
          "8.5410422"
         ],
         "marker": {
          "color": "#636efa",
          "size": [
           2,
           1,
           1,
           1,
           1,
           1,
           1,
           1,
           1,
           3,
           1,
           1,
           1,
           1,
           5,
           2,
           1,
           1,
           3,
           1,
           1,
           1,
           2,
           1,
           1,
           1,
           5
          ],
          "sizemode": "area",
          "sizeref": 0.0104
         },
         "mode": "markers",
         "name": "Europe & EMEA",
         "showlegend": true,
         "subplot": "mapbox",
         "type": "scattermapbox"
        },
        {
         "customdata": [
          [
           "SET Index (Thailand)",
           1
          ],
          [
           "All Share Price Index (Sri Lanka)",
           1
          ],
          [
           "VN-Index (Vietnam)",
           1
          ],
          [
           "S&P Asia 50<br>Hang Seng Index (Hong Kong)",
           2
          ],
          [
           "IDX Composite (Indonesia)",
           1
          ],
          [
           "KSE 100 Index (Pakistan)",
           1
          ],
          [
           "FTSE Bursa Malaysia KLCI",
           1
          ],
          [
           "PSE Composite Index (Philippines)",
           1
          ],
          [
           "BSE SENSEX (India)<br>NIFTY 50 (India)<br>NIFTY Next 50 (India)",
           3
          ],
          [
           "KOSPI (South Korea)",
           1
          ],
          [
           "SSE Composite Index (China)<br>CSI 300 Index (China)<br>SSE 50 Index (China)",
           3
          ],
          [
           "SZSE Component Index (China)",
           1
          ],
          [
           "Straits Times Index (STI) Singapore",
           1
          ],
          [
           "All Ordinaries (Australia)<br>S&P/ASX 200 (Australia)<br>S&P/ASX 300 (Australia)",
           3
          ],
          [
           "TAIEX (Taiwan)",
           1
          ],
          [
           "Nikkei 225 (Japan)<br>TOPIX (Japan)",
           2
          ],
          [
           "S&P/NZX 50 (New Zealand)",
           1
          ]
         ],
         "hovertemplate": "<b>%{hovertext}</b><br><br>Number of Indices: %{customdata[1]}<br>--------------------<br>%{customdata[0]}<extra></extra>",
         "hovertext": [
          "Bangkok, Thailand",
          "Colombo, Sri Lanka",
          "Ho Chi Minh City, Vietnam",
          "Hong Kong",
          "Jakarta, Indonesia",
          "Karachi, Pakistan",
          "Kuala Lumpur, Malaysia",
          "Manila, Philippines",
          "Mumbai, India",
          "Seoul, South Korea",
          "Shanghai, China",
          "Shenzhen, China",
          "Singapore",
          "Sydney, Australia",
          "Taipei, Taiwan",
          "Tokyo, Japan",
          "Wellington, New Zealand"
         ],
         "lat": [
          "13.7524938",
          "6.9388614",
          "10.7755254",
          "22.3506270",
          "-6.1754049",
          "24.8546842",
          "3.1526589",
          "14.5904492",
          "19.0549990",
          "37.5666791",
          "31.2312707",
          "22.5445741",
          "1.3571070",
          "-33.8698439",
          "25.0375198",
          "35.6768601",
          "-41.2887953"
         ],
         "legendgroup": "Asia-Pacific",
         "lon": [
          "100.4935089",
          "79.8542005",
          "106.7021047",
          "114.1849161",
          "106.8271680",
          "67.0207055",
          "101.7022205",
          "120.9803621",
          "72.8692035",
          "126.9782914",
          "121.4700152",
          "114.0545429",
          "103.8194992",
          "151.2082848",
          "121.5636796",
          "139.7638947",
          "174.7772114"
         ],
         "marker": {
          "color": "#EF553B",
          "size": [
           1,
           1,
           1,
           2,
           1,
           1,
           1,
           1,
           3,
           1,
           3,
           1,
           1,
           3,
           1,
           2,
           1
          ],
          "sizemode": "area",
          "sizeref": 0.0104
         },
         "mode": "markers",
         "name": "Asia-Pacific",
         "showlegend": true,
         "subplot": "mapbox",
         "type": "scattermapbox"
        },
        {
         "customdata": [
          [
           "COLCAP (Colombia)",
           1
          ],
          [
           "MERVAL (Argentina)",
           1
          ],
          [
           "Indice Bursatil de Capitalizacion (IBC) Venezuela",
           1
          ],
          [
           "CBOE Volatility Index (VIX)",
           1
          ],
          [
           "S&P/BVL Peru General Index",
           1
          ],
          [
           "Indice de Precios y Cotizaciones (IPC) Mexico",
           1
          ],
          [
           "Dow Jones Global Titans 50<br>MSCI World<br>S&P Global 100<br>S&P Global 1200<br>The Global Dow<br>MSCI EAFE<br>S&P Latin America 40<br>Dow Jones Industrial Average<br>Dow Jones Transportation Average<br>Dow Jones Utility Average<br>... and 16 more.",
           26
          ],
          [
           "IPSA (Chile)",
           1
          ],
          [
           "Indice Bovespa (Brazil)",
           1
          ],
          [
           "S&P/TSX Composite Index (Canada)<br>S&P/TSX Venture Composite Index (Canada)<br>NYSE Arca Major Market Index",
           3
          ]
         ],
         "hovertemplate": "<b>%{hovertext}</b><br><br>Number of Indices: %{customdata[1]}<br>--------------------<br>%{customdata[0]}<extra></extra>",
         "hovertext": [
          "Bogotá, Colombia",
          "Buenos Aires, Argentina",
          "Caracas, Venezuela",
          "Chicago, USA",
          "Lima, Peru",
          "Mexico City, Mexico",
          "New York, USA",
          "Santiago, Chile",
          "São Paulo, Brazil",
          "Toronto, Canada"
         ],
         "lat": [
          "4.6533817",
          "-34.6095579",
          "10.5060934",
          "41.8755616",
          "-12.0459808",
          "19.3207722",
          "40.7127281",
          "-33.4377756",
          "-23.5506507",
          "43.6534817"
         ],
         "legendgroup": "Americas",
         "lon": [
          "-74.0836331",
          "-58.3887904",
          "-66.9146008",
          "-87.6244212",
          "-77.0305912",
          "-99.1514678",
          "-74.0060152",
          "-70.6504502",
          "-46.6333824",
          "-79.3839347"
         ],
         "marker": {
          "color": "#00cc96",
          "size": [
           1,
           1,
           1,
           1,
           1,
           1,
           26,
           1,
           1,
           3
          ],
          "sizemode": "area",
          "sizeref": 0.0104
         },
         "mode": "markers",
         "name": "Americas",
         "showlegend": true,
         "subplot": "mapbox",
         "type": "scattermapbox"
        }
       ],
       "layout": {
        "legend": {
         "itemsizing": "constant",
         "title": {
          "text": "Region"
         },
         "tracegroupgap": 0
        },
        "mapbox": {
         "center": {
          "lat": 30,
          "lon": 20
         },
         "domain": {
          "x": [
           0,
           1
          ],
          "y": [
           0,
           1
          ]
         },
         "style": "carto-positron",
         "zoom": 1.2
        },
        "margin": {
         "b": 0,
         "l": 0,
         "r": 0,
         "t": 50
        },
        "template": {
         "data": {
          "bar": [
           {
            "error_x": {
             "color": "#2a3f5f"
            },
            "error_y": {
             "color": "#2a3f5f"
            },
            "marker": {
             "line": {
              "color": "#E5ECF6",
              "width": 0.5
             },
             "pattern": {
              "fillmode": "overlay",
              "size": 10,
              "solidity": 0.2
             }
            },
            "type": "bar"
           }
          ],
          "barpolar": [
           {
            "marker": {
             "line": {
              "color": "#E5ECF6",
              "width": 0.5
             },
             "pattern": {
              "fillmode": "overlay",
              "size": 10,
              "solidity": 0.2
             }
            },
            "type": "barpolar"
           }
          ],
          "carpet": [
           {
            "aaxis": {
             "endlinecolor": "#2a3f5f",
             "gridcolor": "white",
             "linecolor": "white",
             "minorgridcolor": "white",
             "startlinecolor": "#2a3f5f"
            },
            "baxis": {
             "endlinecolor": "#2a3f5f",
             "gridcolor": "white",
             "linecolor": "white",
             "minorgridcolor": "white",
             "startlinecolor": "#2a3f5f"
            },
            "type": "carpet"
           }
          ],
          "choropleth": [
           {
            "colorbar": {
             "outlinewidth": 0,
             "ticks": ""
            },
            "type": "choropleth"
           }
          ],
          "contour": [
           {
            "colorbar": {
             "outlinewidth": 0,
             "ticks": ""
            },
            "colorscale": [
             [
              0,
              "#0d0887"
             ],
             [
              0.1111111111111111,
              "#46039f"
             ],
             [
              0.2222222222222222,
              "#7201a8"
             ],
             [
              0.3333333333333333,
              "#9c179e"
             ],
             [
              0.4444444444444444,
              "#bd3786"
             ],
             [
              0.5555555555555556,
              "#d8576b"
             ],
             [
              0.6666666666666666,
              "#ed7953"
             ],
             [
              0.7777777777777778,
              "#fb9f3a"
             ],
             [
              0.8888888888888888,
              "#fdca26"
             ],
             [
              1,
              "#f0f921"
             ]
            ],
            "type": "contour"
           }
          ],
          "contourcarpet": [
           {
            "colorbar": {
             "outlinewidth": 0,
             "ticks": ""
            },
            "type": "contourcarpet"
           }
          ],
          "heatmap": [
           {
            "colorbar": {
             "outlinewidth": 0,
             "ticks": ""
            },
            "colorscale": [
             [
              0,
              "#0d0887"
             ],
             [
              0.1111111111111111,
              "#46039f"
             ],
             [
              0.2222222222222222,
              "#7201a8"
             ],
             [
              0.3333333333333333,
              "#9c179e"
             ],
             [
              0.4444444444444444,
              "#bd3786"
             ],
             [
              0.5555555555555556,
              "#d8576b"
             ],
             [
              0.6666666666666666,
              "#ed7953"
             ],
             [
              0.7777777777777778,
              "#fb9f3a"
             ],
             [
              0.8888888888888888,
              "#fdca26"
             ],
             [
              1,
              "#f0f921"
             ]
            ],
            "type": "heatmap"
           }
          ],
          "heatmapgl": [
           {
            "colorbar": {
             "outlinewidth": 0,
             "ticks": ""
            },
            "colorscale": [
             [
              0,
              "#0d0887"
             ],
             [
              0.1111111111111111,
              "#46039f"
             ],
             [
              0.2222222222222222,
              "#7201a8"
             ],
             [
              0.3333333333333333,
              "#9c179e"
             ],
             [
              0.4444444444444444,
              "#bd3786"
             ],
             [
              0.5555555555555556,
              "#d8576b"
             ],
             [
              0.6666666666666666,
              "#ed7953"
             ],
             [
              0.7777777777777778,
              "#fb9f3a"
             ],
             [
              0.8888888888888888,
              "#fdca26"
             ],
             [
              1,
              "#f0f921"
             ]
            ],
            "type": "heatmapgl"
           }
          ],
          "histogram": [
           {
            "marker": {
             "pattern": {
              "fillmode": "overlay",
              "size": 10,
              "solidity": 0.2
             }
            },
            "type": "histogram"
           }
          ],
          "histogram2d": [
           {
            "colorbar": {
             "outlinewidth": 0,
             "ticks": ""
            },
            "colorscale": [
             [
              0,
              "#0d0887"
             ],
             [
              0.1111111111111111,
              "#46039f"
             ],
             [
              0.2222222222222222,
              "#7201a8"
             ],
             [
              0.3333333333333333,
              "#9c179e"
             ],
             [
              0.4444444444444444,
              "#bd3786"
             ],
             [
              0.5555555555555556,
              "#d8576b"
             ],
             [
              0.6666666666666666,
              "#ed7953"
             ],
             [
              0.7777777777777778,
              "#fb9f3a"
             ],
             [
              0.8888888888888888,
              "#fdca26"
             ],
             [
              1,
              "#f0f921"
             ]
            ],
            "type": "histogram2d"
           }
          ],
          "histogram2dcontour": [
           {
            "colorbar": {
             "outlinewidth": 0,
             "ticks": ""
            },
            "colorscale": [
             [
              0,
              "#0d0887"
             ],
             [
              0.1111111111111111,
              "#46039f"
             ],
             [
              0.2222222222222222,
              "#7201a8"
             ],
             [
              0.3333333333333333,
              "#9c179e"
             ],
             [
              0.4444444444444444,
              "#bd3786"
             ],
             [
              0.5555555555555556,
              "#d8576b"
             ],
             [
              0.6666666666666666,
              "#ed7953"
             ],
             [
              0.7777777777777778,
              "#fb9f3a"
             ],
             [
              0.8888888888888888,
              "#fdca26"
             ],
             [
              1,
              "#f0f921"
             ]
            ],
            "type": "histogram2dcontour"
           }
          ],
          "mesh3d": [
           {
            "colorbar": {
             "outlinewidth": 0,
             "ticks": ""
            },
            "type": "mesh3d"
           }
          ],
          "parcoords": [
           {
            "line": {
             "colorbar": {
              "outlinewidth": 0,
              "ticks": ""
             }
            },
            "type": "parcoords"
           }
          ],
          "pie": [
           {
            "automargin": true,
            "type": "pie"
           }
          ],
          "scatter": [
           {
            "fillpattern": {
             "fillmode": "overlay",
             "size": 10,
             "solidity": 0.2
            },
            "type": "scatter"
           }
          ],
          "scatter3d": [
           {
            "line": {
             "colorbar": {
              "outlinewidth": 0,
              "ticks": ""
             }
            },
            "marker": {
             "colorbar": {
              "outlinewidth": 0,
              "ticks": ""
             }
            },
            "type": "scatter3d"
           }
          ],
          "scattercarpet": [
           {
            "marker": {
             "colorbar": {
              "outlinewidth": 0,
              "ticks": ""
             }
            },
            "type": "scattercarpet"
           }
          ],
          "scattergeo": [
           {
            "marker": {
             "colorbar": {
              "outlinewidth": 0,
              "ticks": ""
             }
            },
            "type": "scattergeo"
           }
          ],
          "scattergl": [
           {
            "marker": {
             "colorbar": {
              "outlinewidth": 0,
              "ticks": ""
             }
            },
            "type": "scattergl"
           }
          ],
          "scattermapbox": [
           {
            "marker": {
             "colorbar": {
              "outlinewidth": 0,
              "ticks": ""
             }
            },
            "type": "scattermapbox"
           }
          ],
          "scatterpolar": [
           {
            "marker": {
             "colorbar": {
              "outlinewidth": 0,
              "ticks": ""
             }
            },
            "type": "scatterpolar"
           }
          ],
          "scatterpolargl": [
           {
            "marker": {
             "colorbar": {
              "outlinewidth": 0,
              "ticks": ""
             }
            },
            "type": "scatterpolargl"
           }
          ],
          "scatterternary": [
           {
            "marker": {
             "colorbar": {
              "outlinewidth": 0,
              "ticks": ""
             }
            },
            "type": "scatterternary"
           }
          ],
          "surface": [
           {
            "colorbar": {
             "outlinewidth": 0,
             "ticks": ""
            },
            "colorscale": [
             [
              0,
              "#0d0887"
             ],
             [
              0.1111111111111111,
              "#46039f"
             ],
             [
              0.2222222222222222,
              "#7201a8"
             ],
             [
              0.3333333333333333,
              "#9c179e"
             ],
             [
              0.4444444444444444,
              "#bd3786"
             ],
             [
              0.5555555555555556,
              "#d8576b"
             ],
             [
              0.6666666666666666,
              "#ed7953"
             ],
             [
              0.7777777777777778,
              "#fb9f3a"
             ],
             [
              0.8888888888888888,
              "#fdca26"
             ],
             [
              1,
              "#f0f921"
             ]
            ],
            "type": "surface"
           }
          ],
          "table": [
           {
            "cells": {
             "fill": {
              "color": "#EBF0F8"
             },
             "line": {
              "color": "white"
             }
            },
            "header": {
             "fill": {
              "color": "#C8D4E3"
             },
             "line": {
              "color": "white"
             }
            },
            "type": "table"
           }
          ]
         },
         "layout": {
          "annotationdefaults": {
           "arrowcolor": "#2a3f5f",
           "arrowhead": 0,
           "arrowwidth": 1
          },
          "autotypenumbers": "strict",
          "coloraxis": {
           "colorbar": {
            "outlinewidth": 0,
            "ticks": ""
           }
          },
          "colorscale": {
           "diverging": [
            [
             0,
             "#8e0152"
            ],
            [
             0.1,
             "#c51b7d"
            ],
            [
             0.2,
             "#de77ae"
            ],
            [
             0.3,
             "#f1b6da"
            ],
            [
             0.4,
             "#fde0ef"
            ],
            [
             0.5,
             "#f7f7f7"
            ],
            [
             0.6,
             "#e6f5d0"
            ],
            [
             0.7,
             "#b8e186"
            ],
            [
             0.8,
             "#7fbc41"
            ],
            [
             0.9,
             "#4d9221"
            ],
            [
             1,
             "#276419"
            ]
           ],
           "sequential": [
            [
             0,
             "#0d0887"
            ],
            [
             0.1111111111111111,
             "#46039f"
            ],
            [
             0.2222222222222222,
             "#7201a8"
            ],
            [
             0.3333333333333333,
             "#9c179e"
            ],
            [
             0.4444444444444444,
             "#bd3786"
            ],
            [
             0.5555555555555556,
             "#d8576b"
            ],
            [
             0.6666666666666666,
             "#ed7953"
            ],
            [
             0.7777777777777778,
             "#fb9f3a"
            ],
            [
             0.8888888888888888,
             "#fdca26"
            ],
            [
             1,
             "#f0f921"
            ]
           ],
           "sequentialminus": [
            [
             0,
             "#0d0887"
            ],
            [
             0.1111111111111111,
             "#46039f"
            ],
            [
             0.2222222222222222,
             "#7201a8"
            ],
            [
             0.3333333333333333,
             "#9c179e"
            ],
            [
             0.4444444444444444,
             "#bd3786"
            ],
            [
             0.5555555555555556,
             "#d8576b"
            ],
            [
             0.6666666666666666,
             "#ed7953"
            ],
            [
             0.7777777777777778,
             "#fb9f3a"
            ],
            [
             0.8888888888888888,
             "#fdca26"
            ],
            [
             1,
             "#f0f921"
            ]
           ]
          },
          "colorway": [
           "#636efa",
           "#EF553B",
           "#00cc96",
           "#ab63fa",
           "#FFA15A",
           "#19d3f3",
           "#FF6692",
           "#B6E880",
           "#FF97FF",
           "#FECB52"
          ],
          "font": {
           "color": "#2a3f5f"
          },
          "geo": {
           "bgcolor": "white",
           "lakecolor": "white",
           "landcolor": "#E5ECF6",
           "showlakes": true,
           "showland": true,
           "subunitcolor": "white"
          },
          "hoverlabel": {
           "align": "left"
          },
          "hovermode": "closest",
          "mapbox": {
           "style": "light"
          },
          "paper_bgcolor": "white",
          "plot_bgcolor": "#E5ECF6",
          "polar": {
           "angularaxis": {
            "gridcolor": "white",
            "linecolor": "white",
            "ticks": ""
           },
           "bgcolor": "#E5ECF6",
           "radialaxis": {
            "gridcolor": "white",
            "linecolor": "white",
            "ticks": ""
           }
          },
          "scene": {
           "xaxis": {
            "backgroundcolor": "#E5ECF6",
            "gridcolor": "white",
            "gridwidth": 2,
            "linecolor": "white",
            "showbackground": true,
            "ticks": "",
            "zerolinecolor": "white"
           },
           "yaxis": {
            "backgroundcolor": "#E5ECF6",
            "gridcolor": "white",
            "gridwidth": 2,
            "linecolor": "white",
            "showbackground": true,
            "ticks": "",
            "zerolinecolor": "white"
           },
           "zaxis": {
            "backgroundcolor": "#E5ECF6",
            "gridcolor": "white",
            "gridwidth": 2,
            "linecolor": "white",
            "showbackground": true,
            "ticks": "",
            "zerolinecolor": "white"
           }
          },
          "shapedefaults": {
           "line": {
            "color": "#2a3f5f"
           }
          },
          "ternary": {
           "aaxis": {
            "gridcolor": "white",
            "linecolor": "white",
            "ticks": ""
           },
           "baxis": {
            "gridcolor": "white",
            "linecolor": "white",
            "ticks": ""
           },
           "bgcolor": "#E5ECF6",
           "caxis": {
            "gridcolor": "white",
            "linecolor": "white",
            "ticks": ""
           }
          },
          "title": {
           "x": 0.05
          },
          "xaxis": {
           "automargin": true,
           "gridcolor": "white",
           "linecolor": "white",
           "ticks": "",
           "title": {
            "standoff": 15
           },
           "zerolinecolor": "white",
           "zerolinewidth": 2
          },
          "yaxis": {
           "automargin": true,
           "gridcolor": "white",
           "linecolor": "white",
           "ticks": "",
           "title": {
            "standoff": 15
           },
           "zerolinecolor": "white",
           "zerolinewidth": 2
          }
         }
        },
        "title": {
         "text": "Global Stock Market Indices: Major Financial Centers (Corrected)"
        }
       }
      }
     },
     "metadata": {},
     "output_type": "display_data"
    },
    {
     "name": "stdout",
     "output_type": "stream",
     "text": [
      "\n",
      "============================================================\n",
      "--- Detailed Lists for Major Financial Hubs (Final Corrected Data) ---\n",
      "============================================================\n",
      "\n",
      "📍 New York, USA (26 Indices):\n",
      "   - Dow Jones Global Titans 50\n",
      "   - MSCI World\n",
      "   - S&P Global 100\n",
      "   - S&P Global 1200\n",
      "   - The Global Dow\n",
      "   - MSCI EAFE\n",
      "   - S&P Latin America 40\n",
      "   - Dow Jones Industrial Average\n",
      "   - Dow Jones Transportation Average\n",
      "   - Dow Jones Utility Average\n",
      "   - Nasdaq Composite\n",
      "   - Nasdaq-100\n",
      "   - Russell 1000\n",
      "   - Russell 2000\n",
      "   - Russell 3000\n",
      "   - Russell MidCap\n",
      "   - S&P 100\n",
      "   - S&P 500\n",
      "   - S&P MidCap 400\n",
      "   - S&P SmallCap 600\n",
      "   - Wilshire 5000\n",
      "   - Amex Oil Index (Energy)\n",
      "   - PHLX Semiconductor Sector (Electronics)\n",
      "   - HUI Gold Index (Metals)\n",
      "   - Philadelphia Gold and Silver Index (Metals)\n",
      "   - Palisades Water Index (ZWI)\n",
      "\n",
      "📍 London, UK (5 Indices):\n",
      "   - FTSE All-World\n",
      "   - FTSE 100 Index (UK)\n",
      "   - FTSE MID 250 Index (UK)\n",
      "   - FTSE 350 Index (UK)\n",
      "   - FTSE All-Share Index (UK)\n",
      "\n",
      "📍 Zurich, Switzerland (5 Indices):\n",
      "   - EURO STOXX 50\n",
      "   - STOXX Europe 600\n",
      "   - S&P Europe 350\n",
      "   - Swiss Market Index (SMI)\n",
      "   - Swiss Leader Index (SLI)\n",
      "\n",
      "📍 Shanghai, China (3 Indices):\n",
      "   - SSE Composite Index (China)\n",
      "   - CSI 300 Index (China)\n",
      "   - SSE 50 Index (China)\n",
      "\n",
      "📍 Mumbai, India (3 Indices):\n",
      "   - BSE SENSEX (India)\n",
      "   - NIFTY 50 (India)\n",
      "   - NIFTY Next 50 (India)\n",
      "\n",
      "📍 Frankfurt, Germany (3 Indices):\n",
      "   - DAX (Germany)\n",
      "   - MDAX (Germany)\n",
      "   - TecDAX (Germany)\n",
      "\n",
      "📍 Sydney, Australia (3 Indices):\n",
      "   - All Ordinaries (Australia)\n",
      "   - S&P/ASX 200 (Australia)\n",
      "   - S&P/ASX 300 (Australia)\n",
      "\n",
      "📍 Toronto, Canada (3 Indices):\n",
      "   - S&P/TSX Composite Index (Canada)\n",
      "   - S&P/TSX Venture Composite Index (Canada)\n",
      "   - NYSE Arca Major Market Index\n",
      "\n",
      "📍 Paris, France (3 Indices):\n",
      "   - CAC 40 (France)\n",
      "   - CAC Next 20 (France)\n",
      "   - SBF 120 (France)\n",
      "\n",
      "📍 Amsterdam, Netherlands (2 Indices):\n",
      "   - AEX (Netherlands)\n",
      "   - AMX (Netherlands)\n",
      "\n",
      "📍 Madrid, Spain (2 Indices):\n",
      "   - IBEX 35 (Spain)\n",
      "   - Madrid Stock Exchange General Index (Spain)\n",
      "\n",
      "📍 Hong Kong (2 Indices):\n",
      "   - S&P Asia 50\n",
      "   - Hang Seng Index (Hong Kong)\n",
      "\n",
      "📍 Tokyo, Japan (2 Indices):\n",
      "   - Nikkei 225 (Japan)\n",
      "   - TOPIX (Japan)\n",
      "\n",
      "📍 Tel Aviv, Israel (2 Indices):\n",
      "   - TA-125 Index (Israel)\n",
      "   - TA-35 Index (Israel)\n"
     ]
    }
   ],
   "source": [
    "import pandas as pd\n",
    "import plotly.express as px\n",
    "import requests\n",
    "import time\n",
    "import logging\n",
    "\n",
    "# --- 1. Configuration ---\n",
    "logging.basicConfig(level=logging.INFO, format='%(asctime)s - %(levelname)s - %(message)s')\n",
    "CSV_FILE_PATH = r'D:\\Stock-Market-Indices\\data\\stock_indices_locations_final.csv'\n",
    "\n",
    "# --- 2. THE DEFINITIVE FIX: A Comprehensive Manual Override Dictionary ---\n",
    "# This is now our single source of truth for ALL locations.\n",
    "TICKER_TO_CITY_TRUTH_MAP = {\n",
    "    # --- Americas ---\n",
    "    \"EFA\": \"New York, USA\", \"ILF\": \"New York, USA\", \"IWR\": \"New York, USA\", \"IJR\": \"New York, USA\",\n",
    "    \"^DJGT\": \"New York, USA\", \"URTH\": \"New York, USA\", \"^SPG100\": \"New York, USA\", \"^SPG1200\": \"New York, USA\",\n",
    "    \"^GDOW\": \"New York, USA\", \"^DJI\": \"New York, USA\", \"^DJT\": \"New York, USA\", \"^DJU\": \"New York, USA\",\n",
    "    \"^IXIC\": \"New York, USA\", \"^NDX\": \"New York, USA\", \"^RUI\": \"New York, USA\", \"^RUT\": \"New York, USA\",\n",
    "    \"^RUA\": \"New York, USA\", \"^OEX\": \"New York, USA\", \"^GSPC\": \"New York, USA\", \"^MID\": \"New York, USA\",\n",
    "    \"^W5000\": \"New York, USA\", \"^XOI\": \"New York, USA\", \"^SOX\": \"New York, USA\", \"^HUI\": \"New York, USA\",\n",
    "    \"^XAU\": \"New York, USA\", \"PHO\": \"New York, USA\", \"^VIX\": \"Chicago, USA\",\n",
    "    \"^GSPTSE\": \"Toronto, Canada\", \"^JX\": \"Toronto, Canada\", \"XMI.TO\": \"Toronto, Canada\",\n",
    "    \"^MXX\": \"Mexico City, Mexico\", \"^BVSP\": \"São Paulo, Brazil\", \"^MERV\": \"Buenos Aires, Argentina\",\n",
    "    \"^IPSA\": \"Santiago, Chile\", \"^ICOLCAP\": \"Bogotá, Colombia\", \"^SPBLPGPT\": \"Lima, Peru\",\n",
    "    \"^IBC\": \"Caracas, Venezuela\",\n",
    "    # --- Europe, Middle East & Africa (EMEA) ---\n",
    "    \"VWRA.L\": \"London, UK\", \"^FTSE\": \"London, UK\", \"^FTMC\": \"London, UK\", \"^NMX\": \"London, UK\", \"^FTAS\": \"London, UK\",\n",
    "    \"^GDAXI\": \"Frankfurt, Germany\", \"^MDAXI\": \"Frankfurt, Germany\", \"^TECDAX\": \"Frankfurt, Germany\",\n",
    "    \"^FCHI\": \"Paris, France\", \"^CN20\": \"Paris, France\", \"^SBF120\": \"Paris, France\",\n",
    "    \"IEV\": \"Zurich, Switzerland\", \"^STOXX50E\": \"Zurich, Switzerland\", \"^STOXX\": \"Zurich, Switzerland\", \"^SSMI\": \"Zurich, Switzerland\", \"^SLI\": \"Zurich, Switzerland\",\n",
    "    \"^AEX\": \"Amsterdam, Netherlands\", \"^AMX\": \"Amsterdam, Netherlands\",\n",
    "    \"FTSEMIB.MI\": \"Milan, Italy\", \"^ISEQ\": \"Dublin, Ireland\",\n",
    "    \"^IBEX\": \"Madrid, Spain\", \"^SMSI\": \"Madrid, Spain\",\n",
    "    \"PSI20.LS\": \"Lisbon, Portugal\", \"^BFX\": \"Brussels, Belgium\",\n",
    "    \"^ATX\": \"Vienna, Austria\", \"^OMX\": \"Stockholm, Sweden\",\n",
    "    \"^OMXC25\": \"Copenhagen, Denmark\", \"^OMXH25\": \"Helsinki, Finland\",\n",
    "    \"^OBX\": \"Oslo, Norway\", \"^ATG\": \"Athens, Greece\",\n",
    "    \"^BUX\": \"Budapest, Hungary\", \"^WIG20\": \"Warsaw, Poland\",\n",
    "    \"^PX\": \"Prague, Czech Republic\", \"XU100.IS\": \"Istanbul, Turkey\",\n",
    "    \"^J203\": \"Johannesburg, South Africa\", \"^CASE30\": \"Cairo, Egypt\",\n",
    "    \"^MASI\": \"Casablanca, Morocco\", \"^TA125\": \"Tel Aviv, Israel\", \"^TA35\": \"Tel Aviv, Israel\",\n",
    "    \"^TASI.SR\": \"Riyadh, Saudi Arabia\", \"^BELEX15\": \"Belgrade, Serbia\", \"^CROBEX\": \"Zagreb, Croatia\",\n",
    "    # --- Asia-Pacific (APAC) ---\n",
    "    \"AIA\": \"Hong Kong\", \"^HSI\": \"Hong Kong\",\n",
    "    \"TPX.F\": \"Tokyo, Japan\", \"^N225\": \"Tokyo, Japan\",\n",
    "    \"000001.SS\": \"Shanghai, China\", \"000300.SS\": \"Shanghai, China\", \"000016.SS\": \"Shanghai, China\",\n",
    "    \"399001.SZ\": \"Shenzhen, China\",\n",
    "    \"^BSESN\": \"Mumbai, India\", \"^NSEI\": \"Mumbai, India\", \"^NSMIDCP\": \"Mumbai, India\",\n",
    "    \"^AXJO\": \"Sydney, Australia\", \"^AORD\": \"Sydney, Australia\", \"^AXKO\": \"Sydney, Australia\",\n",
    "\n",
    "    \"^KS11\": \"Seoul, South Korea\", \"^TWII\": \"Taipei, Taiwan\",\n",
    "    \"^STI\": \"Singapore\", \"^JKSE\": \"Jakarta, Indonesia\",\n",
    "    \"^KLSE\": \"Kuala Lumpur, Malaysia\", \"^SET.BK\": \"Bangkok, Thailand\",\n",
    "    \"^PSEI\": \"Manila, Philippines\", \"^KSE\": \"Karachi, Pakistan\",\n",
    "    \"^CSE\": \"Colombo, Sri Lanka\", \"^VNINDEX\": \"Ho Chi Minh City, Vietnam\",\n",
    "    \"^NZ50\": \"Wellington, New Zealand\"\n",
    "}\n",
    "\n",
    "# --- 3. Geolocation Logic with Cache ---\n",
    "GEO_CACHE = {}\n",
    "def get_lat_lon(city):\n",
    "    if city in GEO_CACHE: return GEO_CACHE[city]\n",
    "    try:\n",
    "        url = 'https://nominatim.openstreetmap.org/search'\n",
    "        params = {'q': city, 'format': 'json', 'limit': 1}\n",
    "        resp = requests.get(url, params=params, headers={'User-Agent': 'GlobalIndexMapper/2.0'})\n",
    "        resp.raise_for_status()\n",
    "        results = resp.json()\n",
    "        if results:\n",
    "            lat, lon = results[0]['lat'], results[0]['lon']\n",
    "            GEO_CACHE[city] = (lat, lon); return lat, lon\n",
    "    except Exception as e:\n",
    "        logging.error(f\"Geolocation failed for {city}: {e}\")\n",
    "    GEO_CACHE[city] = (None, None); return None, None\n",
    "\n",
    "# --- 4. Main Data Rebuilding and Plotting ---\n",
    "def main():\n",
    "    try:\n",
    "        # Load original data just for the Index Names and Tickers\n",
    "        df_original = pd.read_csv(CSV_FILE_PATH)\n",
    "    except FileNotFoundError:\n",
    "        print(f\"Error: The file '{CSV_FILE_PATH}' was not found.\"); exit()\n",
    "\n",
    "    # Build a new, clean list of dictionaries from our source of truth\n",
    "    clean_data = []\n",
    "    for index, row in df_original.iterrows():\n",
    "        ticker = row['Ticker']\n",
    "        if ticker in TICKER_TO_CITY_TRUTH_MAP:\n",
    "            clean_data.append({\n",
    "                'Index Name': row['Index Name'],\n",
    "                'Ticker': ticker,\n",
    "                'City': TICKER_TO_CITY_TRUTH_MAP[ticker]\n",
    "            })\n",
    "\n",
    "    # Convert the clean list to a DataFrame\n",
    "    df = pd.DataFrame(clean_data)\n",
    "\n",
    "    # Fetch fresh coordinates for our clean city data\n",
    "    unique_cities = df['City'].unique()\n",
    "    logging.info(f\"Fetching coordinates for {len(unique_cities)} unique cities...\")\n",
    "    for city in unique_cities:\n",
    "        get_lat_lon(city)\n",
    "        time.sleep(1) # Be polite to the API\n",
    "\n",
    "    df['Latitude'] = df['City'].map(lambda city: GEO_CACHE[city][0])\n",
    "    df['Longitude'] = df['City'].map(lambda city: GEO_CACHE[city][1])\n",
    "    df.dropna(subset=['Latitude', 'Longitude'], inplace=True) # Drop any city that failed geocoding\n",
    "\n",
    "    # Assign regions and aggregate as before\n",
    "    df['Region'] = df['City'].apply(assign_region) # You can reuse the 'assign_region' function from before\n",
    "    aggregated_df = df.groupby(['City', 'Latitude', 'Longitude', 'Region']).agg(\n",
    "        Index_Count=('Ticker', 'size'),\n",
    "        Hover_Text=('Index Name', lambda names: '<br>'.join(names.head(10)) + (f'<br>... and {len(names) - 10} more.' if len(names) > 10 else '')),\n",
    "        Full_List=('Index Name', list)\n",
    "    ).reset_index()\n",
    "\n",
    "    # Create the plot\n",
    "    fig = px.scatter_mapbox(\n",
    "        data_frame=aggregated_df, lat=\"Latitude\", lon=\"Longitude\", color=\"Region\",\n",
    "        size=\"Index_Count\", size_max=50, hover_name=\"City\", hover_data={\"Hover_Text\": True, \"Index_Count\": True},\n",
    "        title=\"Global Stock Market Indices: Major Financial Centers (Corrected)\",\n",
    "        zoom=1.2, center={\"lat\": 30, \"lon\": 20}\n",
    "    )\n",
    "    fig.update_traces(hovertemplate=\"<b>%{hovertext}</b><br><br>Number of Indices: %{customdata[1]}<br>--------------------<br>%{customdata[0]}<extra></extra>\")\n",
    "    fig.update_layout(mapbox_style=\"carto-positron\", margin={\"r\":0,\"t\":50,\"l\":0,\"b\":0}, legend_title_text='Region')\n",
    "    fig.show()\n",
    "    # Print the corrected detailed list\n",
    "    print(\"\\n\" + \"=\"*60); print(\"--- Detailed Lists for Major Financial Hubs (Final Corrected Data) ---\"); print(\"=\"*60)\n",
    "    major_hubs = aggregated_df[aggregated_df['Index_Count'] > 1].sort_values('Index_Count', ascending=False)\n",
    "    for index, row in major_hubs.iterrows():\n",
    "        print(f\"\\n📍 {row['City']} ({row['Index_Count']} Indices):\")\n",
    "        for idx_name in row['Full_List']: print(f\"   - {idx_name}\")\n",
    "\n",
    "def assign_region(city_string):\n",
    "    # This helper function remains the same\n",
    "    if not isinstance(city_string, str): return 'Other'\n",
    "    city_lower = city_string.lower()\n",
    "    americas = ['usa', 'canada', 'mexico', 'brazil', 'argentina', 'chile', 'colombia', 'peru', 'venezuela']\n",
    "    emea = ['uk', 'germany', 'france', 'switzerland', 'spain', 'italy', 'netherlands', 'belgium', 'sweden', 'denmark', 'finland', 'norway', 'poland', 'austria', 'greece', 'ireland', 'portugal', 'hungary', 'czech', 'south africa', 'egypt', 'morocco', 'israel', 'saudi arabia', 'turkey', 'serbia', 'croatia']\n",
    "    apac = ['japan', 'china', 'hong kong', 'india', 'australia', 'south korea', 'taiwan', 'singapore', 'indonesia', 'malaysia', 'thailand', 'philippines', 'pakistan', 'new zealand', 'sri lanka', 'vietnam']\n",
    "    if any(loc in city_lower for loc in americas): return 'Americas'\n",
    "    if any(loc in city_lower for loc in emea): return 'Europe & EMEA'\n",
    "    if any(loc in city_lower for loc in apac): return 'Asia-Pacific'\n",
    "    return 'Other'\n",
    "\n",
    "if __name__ == \"__main__\":\n",
    "    main()"
   ]
  },
  {
   "cell_type": "code",
   "execution_count": null,
   "metadata": {},
   "outputs": [],
   "source": []
  }
 ],
 "metadata": {
  "kernelspec": {
   "display_name": "Python 3",
   "language": "python",
   "name": "python3"
  },
  "language_info": {
   "codemirror_mode": {
    "name": "ipython",
    "version": 3
   },
   "file_extension": ".py",
   "mimetype": "text/x-python",
   "name": "python",
   "nbconvert_exporter": "python",
   "pygments_lexer": "ipython3",
   "version": "3.13.0"
  }
 },
 "nbformat": 4,
 "nbformat_minor": 2
}
